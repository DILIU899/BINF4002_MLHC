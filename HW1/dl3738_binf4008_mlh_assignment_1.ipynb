{
 "cells": [
  {
   "cell_type": "markdown",
   "metadata": {},
   "source": [
    "# BINF GU 4002: Machine Learning for Healthcare, Spring 2025\n",
    "# Assignment \\#1: Classification with Supervised Learning\n",
    "## DUE: 11:59 PM, Tuesday, February 18, 2025\n",
    "\n",
    "This assignment is a primer on binary classifiction with supervised learning. You will be implementing two classifiers and using them to train and evaluate models on a real world tabular dataset.\n",
    "\n",
    "**Instructions for accessing the dataset are below**--please make sure to read them. To save you some time, we have handled preprocessing the data for you.\n",
    "\n",
    "**<font color=\"red\">Please make sure that your Notebook runs (no running cells out of order!) and that your written answers are formatted using </font>$\\LaTeX$<font color=\"red\"> in `markdown` cells. When submitting, please name your files `{UNI}_binf4008_mlh_assignment_1.{filetype}` and submit both a `.ipynb` and `.html` version of your Jupyter notebook.</font>**"
   ]
  },
  {
   "cell_type": "code",
   "execution_count": 1,
   "metadata": {},
   "outputs": [],
   "source": [
    "import os\n",
    "\n",
    "import numpy as np\n",
    "np.random.seed(0)\n",
    "import pandas as pd\n",
    "import matplotlib.pyplot as plt\n",
    "import seaborn as sns\n",
    "\n",
    "# from ucimlrepo import fetch_ucirepo # uncomment if you are using the ucimlrepo package.\n",
    "from collections import Counter\n",
    "from sklearn.impute import SimpleImputer\n",
    "from sklearn.preprocessing import StandardScaler\n",
    "from sklearn.model_selection import train_test_split\n",
    "from sklearn.metrics import roc_auc_score, average_precision_score, accuracy_score"
   ]
  },
  {
   "cell_type": "markdown",
   "metadata": {},
   "source": [
    "## [45 Points] Question 1: Building the Naïve Bayes Classifier\n",
    "\n",
    "Our goal in Naïve Bayes is to get probabilities a feature vector $\\mathbf{x}=(x_1,\\ldots{},x_n)$ will belong to $K$ classes $C_k$ via conditional probabilities $P(C_k|\\mathbf{x})$. Questions 1.1 - 1.3 will be written (create a `markdown` cell) and 1.4 will be a code implementation.\n",
    "\n",
    "Starting with posterior $P(C_k|\\mathbf{x})$, prior $P(C_k)$, likelihood $P(\\mathbf{x}|C_k)$ and evidence $P(\\mathbf{x})$, and using the [Chain Rule of Probability](https://en.wikipedia.org/wiki/Chain_rule_(probability)) and the [Law of Total Probability](https://en.wikipedia.org/wiki/Law_of_total_probability), do the following:\n",
    "\n",
    "#### [5 Points] 1.1: Explain the Naïve Bayes assumption. Why is it \"naïve?\"\n",
    "\n",
    "Hint: You should discuss [conditional independence](https://en.wikipedia.org/wiki/Conditional_independence)."
   ]
  },
  {
   "cell_type": "markdown",
   "metadata": {},
   "source": [
    "<font color=\"red\">Answer 1.1</font>\n",
    "\n",
    "The Naïve Bayes assumption is that given a specific class label $C_k$, all the RVs making up of the feature vector are independent, which can help us deal with the joint distribution. In the formula view, that is:\n",
    "\n",
    "$$\n",
    "P(\\mathbf{x} | C_k) = P(X_1, X_2, ..., X_n | C_k) = \\prod_i^n P(X_i | C_k)\n",
    "$$\n",
    "\n",
    "The assumption is naïve because this assumption can hardly be satisfied in the real world case. We made this assumption just to make it easier to decompose the joint distribution of the feature vector, which can be hard to tackle, into single variant distribution, which can be easier to deal with. (And assuming that all RVs are conditionally independent is the most naïve way to do this decomposition.) It's more of a technique trick but didn't really take into account the real world situation."
   ]
  },
  {
   "cell_type": "markdown",
   "metadata": {},
   "source": [
    "#### [10 Points] 1.2: Derive the expression below, starting with Bayes' Theorem:\n",
    "$$P(C_k|\\mathbf{x})=\\frac{1}{\\sum_{k}P(C_k)P(\\mathbf{x}|C_k)}P(C_k)\\prod^{n}_{i=1}P(x_i|C_k)$$\n",
    "\n",
    "Hints:\n",
    "- From Bayesian Probability: $\\text{posterior}=\\frac{\\text{prior}\\times{\\text{likelihood}}}{\\text{evidence}}$.\n",
    "- Think about what the denominator on the expression on the right means in context of the Law of Total Probability\n",
    "- $P(A,B)=P(B)P(A|B)$\n",
    "- $P(C_k,\\mathbf{x})=P(C_k,x_1, x_2,\\ldots{}, x_n)$\n",
    "- You need the Naïve Bayes Assumption."
   ]
  },
  {
   "cell_type": "markdown",
   "metadata": {},
   "source": [
    "<font color=\"red\">Answer 1.2</font>\n",
    "\n",
    "\\begin{aligned}\n",
    "P(C_k|\\mathbf{x}) &= \\frac{P(\\mathbf{x} | C_{k}) P(C_{k})}{P(\\mathbf{x})} \\\\\n",
    "&= \\frac{P(\\mathbf{x} | C_{k}) P(C_{k})}{\\sum_k P(C_k) P(\\mathbf{x} | C_k)} \\\\ \n",
    "&= \\frac{1}{\\sum_k P(C_k) P(\\mathbf{x} | C_k)} P(C_{k}) P(x_1, x_2, ..., x_n | C_k) \\\\\n",
    "&= \\frac{1}{\\sum_{k}P(C_k)P(\\mathbf{x}|C_k)}P(C_k)\\prod^{n}_{i=1}P(x_i|C_k)\n",
    "\\end{aligned}"
   ]
  },
  {
   "cell_type": "markdown",
   "metadata": {},
   "source": [
    "#### [10 Points] 1.3: We will implement a [Gaussian Naïve Bayes algorithm](https://scikit-learn.org/stable/modules/naive_bayes.html#gaussian-naive-bayes) using [Maximum Likelihood Estimation](https://en.wikipedia.org/wiki/Maximum_likelihood_estimation) for our classification task. Starting from the expression you derviced in Question 1.2, explain how you will build your classifier by deriving the decision rule $\\text{argmax}_{y\\in\\{C_1,\\ldots{},C_k\\}}\\log(C_k|\\mathbf{x})$. \n",
    "\n",
    "Hints:\n",
    "- We are trying to select the class $C_k$ that maximizes the posterior probability $P(C_k|\\mathbf{x})$.\n",
    "- What are we assuming about the likelihood of the features? We are assuming that each feature follows a Gaussian distribution *class-dependent* mean and variance.\n",
    "    - What does this mean with respect to $P(x_i|C_k)$? Think about the Probability Density Function for the Gaussian distribution.\n",
    "- Since $\\frac{1}{\\sum_{k}P(C_k)P(\\mathbf{x}|C_k)}$ remains constant, you can ignore it during the maximization step.\n",
    "- A useful property of logarithms is that $\\log(\\prod_{i}P(x_i))=\\sum_{i}\\log(P(x_i))$. This is part of thr eason why we maximize the log-likelihood $\\log(P(C_k|\\mathbf{x}))$."
   ]
  },
  {
   "cell_type": "markdown",
   "metadata": {},
   "source": [
    "<font color=\"red\">Answer 1.3</font>\n",
    "\n",
    "In the Gaussian Naïve Bayes setting, we assume that each feature follows a Gaussian distribution class-dependent mean and variance. In the formula view, that is:\n",
    "\n",
    "$$\n",
    "P(x_i | y) \\sim N(\\mu_{i,y}, \\sigma^2_{i,y})\n",
    "$$\n",
    "\n",
    "We use $y$ as the class label, which follows a discrete distribution and $y\\in\\{C_1,\\ldots{},C_k\\}$\n",
    "\n",
    "\\begin{aligned}\n",
    "P(y | \\mathbf{x}) &\\propto P(\\mathbf{x} | y) P(y) = P(y)\\prod^{n}_{i=1}P(x_i|y) \\\\\n",
    "log(P(y | \\mathbf{x})) &= logP(y) + \\sum_{i=1}^n \\left [-\\frac{1}{2\\sigma_{i, y}^2}(x_i - \\mu_{i,y})^2 - log(\\sigma_{i, y}) \\right ]+ \\text{const.}\n",
    "\\end{aligned}\n",
    "\n",
    "So here our decision rule is to derive\n",
    "\n",
    "$$\n",
    "\\text{argmax}_{y\\in\\{C_1,\\ldots{},C_k\\}}logP(y) + \\sum_{i=1}^n \\left [-\\frac{1}{2\\sigma_{i, y}^2}(x_i - \\mu_{i,y})^2 - log(\\sigma_{i, y}) \\right ]\n",
    "$$\n",
    "\n",
    "To further derive the parameters in the formula:\n",
    "\n",
    "1. To derive the prior distribution\n",
    "\n",
    "$$\n",
    "P(y=C_k) = \\frac{\\sum_j^N\\mathbf{1}\\{ y_j = C_k\\}}{N}\n",
    "$$\n",
    "\n",
    "where j is to index the samples and N is the total sample size\n",
    "\n",
    "2. To derive the feature/class specific gauss distribution parameter $\\mu_{i,y}$ and $\\sigma_{i,y}^2$\n",
    "\n",
    "According to the MLE result for Gauss distribution, we can get\n",
    "\n",
    "\\begin{aligned}\n",
    "\\mu_{i,C_k} &= \\frac{\\sum_{y_j = C_k}x_{i,j}}{\\sum_j^N\\mathbf{1}\\{ y_j = C_k\\}} \\\\\n",
    "\\sigma_{i,C_k}^2 &= \\frac{\\sum_{y_j = C_k}(x_{i,j} - \\mu_{i,C_k})^2}{\\sum_j^N\\mathbf{1}\\{ y_j = C_k\\}}\n",
    "\\end{aligned}"
   ]
  },
  {
   "cell_type": "markdown",
   "metadata": {},
   "source": [
    "\n",
    "#### [20 Points] 1.4: Implement a Naïve Bayes classifier with the skeleton code below.\n",
    "\n",
    "#### You are allowed to reference the following materials:\n",
    "- Lecture slides and notes from our course.\n",
    "- The Wikipedia articles on [Naïve Bayes](https://en.wikipedia.org/wiki/Naive_Bayes_classifier), the [Chain Rule of Probability](https://en.wikipedia.org/wiki/Chain_rule_(probability)) and the [Law of Total Probability](https://en.wikipedia.org/wiki/Law_of_total_probability).\n",
    "- Dr. Kilian Q. Weinberger's [course notes](https://www.cs.cornell.edu/courses/cs4780/2018fa/lectures/lecturenote05.html) and lecture recording.\n",
    "- Dr. Michael Collin's [notes on Naïve Bayes and Expectation Maximization](http://www.cs.columbia.edu/~mcollins/em.pdf).\n",
    "- [Scikit-Learn documentation on Naïve Bayes](https://scikit-learn.org/stable/modules/naive_bayes.html)."
   ]
  },
  {
   "cell_type": "code",
   "execution_count": 2,
   "metadata": {},
   "outputs": [],
   "source": [
    "class NaiveBayes:\n",
    "    \n",
    "    def __init__(self, epsilon=1e-6):\n",
    "\n",
    "        self.class_probs = None        # P(C_k), the prior\n",
    "        self.class_means = None\n",
    "        self.class_variances = None\n",
    "        self.classes = None\n",
    "        self.epsilon = epsilon\n",
    "    \n",
    "    def fit(self, X: np.array, y: np.array):\n",
    "\n",
    "        # X: [n_sample, n_feature] matrix\n",
    "        # y: [n_sample] array\n",
    "        assert X.shape[0] == y.shape[0]\n",
    "\n",
    "        # Number of samples and features\n",
    "        n_samples, n_features = X.shape\n",
    "        # Get unique class labels\n",
    "        self.classes, each_class_num = np.unique(y, return_counts=True)\n",
    "        n_classes = self.classes.shape[0]\n",
    "        \n",
    "        # Use np.zeros() to initialize the following:\n",
    "        # class_probs with shape n_classes\n",
    "        # class_means with shape (n_classes, n_features)\n",
    "        # class_variances with (n_classes, n_features)\n",
    "        self.class_probs = each_class_num / n_samples\n",
    "        self.class_means = np.array([X[y == i, :].mean(axis=0) for i in self.classes])\n",
    "        self.class_variances = np.array([((X[y == i, :] - self.class_means[i,:])**2).mean(axis=0) for i in self.classes])\n",
    "        \n",
    "        # X_c: index the features that belong to a class c (hint: you should use the value of y to index X)\n",
    "        # class_probs: number of rows in X_c / # of samples in X\n",
    "        # class_means is the mean of X_c along the 0th axis\n",
    "        # class_var is the variance of X_c aong the 0th axis\n",
    "\n",
    "        # seems this code is redundant\n",
    "\n",
    "        # for i, c in enumerate(self.classes):\n",
    "\n",
    "        #     X_c = None\n",
    "        #     self.class_probs[i] = None\n",
    "        #     self.class_means[i, :] = None\n",
    "        #     self.class_variances[i, :] = None\n",
    "    \n",
    "    def _calculate_log_likelihood(self, X):  \n",
    "\n",
    "        # liklihood: [n_sample, n_cluster]\n",
    "\n",
    "        # get the number of samples. remember, X.shape = (n_samples, n_features). \n",
    "        n_samples = X.shape[0]\n",
    "        # instantiate the likelihood with an array of zeros of shape (n_samples, n_classes). You can do this using np.zeros()\n",
    "        likelihood = np.array([(-0.5 / (self.class_variances[i,:] + self.epsilon) * (X - self.class_means[i,:]) ** 2 - 0.5 * np.log(self.class_variances[i,:] + self.epsilon)).sum(axis=1) for i in self.classes]).T\n",
    "        \n",
    "        # seems this code is redundant\n",
    "\n",
    "        # Iterate over the classes\n",
    "        # for i, _ in enumerate(self.classes):\n",
    "\n",
    "        #     # get the mean and variance for the current class (by indexing class_means[i,:] and class_variances[i,:])\n",
    "        #     mean = None\n",
    "        #     var = None\n",
    "            \n",
    "        #     # Calculate the Gaussian Likelihood and populate the [:,i]-th slice of likelihood array with the current class likelihood\n",
    "        #     likelihood[:, i] = None\n",
    "        \n",
    "        return likelihood\n",
    "    \n",
    "    def _calculate_log_posterior(self, X) :\n",
    "\n",
    "        # log(posterior) = log(prior) + log(likelihood)\n",
    "        prior = np.log(self.class_probs)\n",
    "        likelihood = self._calculate_log_likelihood(X)\n",
    "        posterior = prior + likelihood\n",
    "\n",
    "        return posterior\n",
    "\n",
    "    def predict(self, X):\n",
    "\n",
    "        log_posterior = self._calculate_log_posterior(X)\n",
    "        \n",
    "        return self.classes[np.argmax(log_posterior, axis=1)]\n",
    "    \n",
    "    def predict_proba(self, X):\n",
    "\n",
    "        log_posterior = self._calculate_log_posterior(X)\n",
    "        \n",
    "        posterior = np.exp(log_posterior)\n",
    "        probabilities = posterior / np.sum(posterior, axis=1, keepdims = True)\n",
    "        \n",
    "        return probabilities"
   ]
  },
  {
   "cell_type": "markdown",
   "metadata": {},
   "source": [
    "# [45 Points] Question 2: Building the Standard Logistic Regression Classifier\n",
    "\n",
    "We are going to build toward a Logistic Regression classifier. This is one of the most important machine learning models that is used widely in healthcare and other industries.\n",
    "\n",
    "Unlike the Naïve Bayes classifier, Logistic Regression has an optimization step. If you feel particularly lost in this question, start by reading Sections 5.1, 52, 5.4, and 5.6 in the [Logistic Regression chapter](https://web.stanford.edu/~jurafsky/slp3/5.pdf) in Dr. Jrafsky and Dr. Martin's *Speech and Language Processing*.\n",
    "\n",
    "#### [10 Points] Question 2.1: Derive the log-loss minimization $L(\\hat{y},y)$ for Logistic Regression. Start with the idea that we can model binary labels $P(y=1 \\vert \\mathbf{x}) \\sim \\text{Bernoulli}(\\sigma(\\mathbf{w}^T \\mathbf{x}))$, where $\\sigma{(\\mathbf{x})}=\\frac{1}{1+e^{-\\mathbf{x}}}$ is the sigmoid function.\n",
    "\n",
    "Hint: take the following steps.\n",
    "- Start with $\\hat{y}={\\sigma(\\mathbf{w}^T\\mathbf{x})}$\n",
    "- Bernoulli means that $P(y=1\\vert{{\\mathbf{x}}})=\\hat{y}^{y}(1-\\hat{y})^{1-y}$.\n",
    "- $L(\\hat{y},y)=-\\log{\\left(P(y=1\\vert{\\mathbf{x}})\\right)}$. Replace $\\hat{y}$ in terms of $\\mathbf{x}$ and expand the expression."
   ]
  },
  {
   "cell_type": "markdown",
   "metadata": {},
   "source": [
    "<font color=\"red\">Answer 2.1</font>\n",
    "\n",
    "\\begin{aligned}\n",
    "L(\\hat{y},y) &= -\\log{\\left(P(y=1\\vert{\\mathbf{x}})\\right)} \\\\\n",
    "&= -\\log{\\hat{y}^{y}(1-\\hat{y})^{1-y}} \\\\\n",
    "&= -ylog\\hat{y} - (1-y)log(1-\\hat{y}) \\\\\n",
    "&= -ylog \\frac{1}{1+e^{-\\mathbf{w}^T\\mathbf{x}}} - (1-y)log(1- \\frac{1}{1+e^{-\\mathbf{w}^T\\mathbf{x}}} )\n",
    "\\end{aligned}"
   ]
  },
  {
   "cell_type": "markdown",
   "metadata": {},
   "source": [
    "\n",
    "#### [10 Points] Question 2.2: Get the derivative of $\\sigma{(\\mathbf{w}^T \\mathbf{x})}$ with respect to $w_j\\in{}\\mathbf{w}$.\n",
    "\n",
    "Hint: Plug in $\\mathbf{w}^T \\mathbf{x}$ to $\\sigma{(\\mathbf{x})}=\\frac{1}{1+e^{-\\mathbf{x}}}$. Then, either use the quotient rule of partial derivatives:\n",
    "\n",
    "$$\\frac{\\partial}{\\partial{x}}\\frac{f(x,y)}{g(x,y)}=\\frac{\\frac{\\partial{f(x,y)}}{\\partial{x}}g(x,y)-f(x,y)\\frac{\\partial{g(x,y)}}{\\partial{x}}}{\\left(g(x,y)\\right)^2}$$\n",
    "\n",
    "or express $\\sigma{(\\mathbf{x})}$ as $(1+e^{-\\mathbf{x}})^{-1}$ and use the chain rule."
   ]
  },
  {
   "cell_type": "markdown",
   "metadata": {},
   "source": [
    "<font color=\"red\">Answer 2.2</font>\n",
    "\n",
    "For sigmoid function $\\sigma$, we have\n",
    "\n",
    "$$\n",
    "\\frac{\\partial \\sigma(x)}{\\partial x} = \\frac{e^{-x}}{(1+e^{-x})^2} = \\frac{1}{1+e^{-x}} \\frac{e^{-x}}{1+e^{-x}} = \\sigma(x)(1-\\sigma(x))\n",
    "$$\n",
    "\n",
    "Thus we further have\n",
    "\n",
    "\\begin{aligned}\n",
    "\\frac{\\partial \\sigma(\\mathbf{w}^T\\mathbf{x})}{\\partial{\\mathbf{w}}} &= \\frac{\\partial \\sigma(\\mathbf{w}^T\\mathbf{x})}{\\partial{\\mathbf{w}^T\\mathbf{x}}} \\frac{\\partial \\mathbf{w}^T\\mathbf{x}}{\\partial \\mathbf{w}} \\\\\n",
    "&= \\sigma(\\mathbf{w}^T\\mathbf{x})(1-\\sigma(\\mathbf{w}^T\\mathbf{x})) \\mathbf{x}\n",
    "\\end{aligned}\n"
   ]
  },
  {
   "cell_type": "markdown",
   "metadata": {},
   "source": [
    "#### [10 Points] Question 2.3: Derive a gradient descent update to optimize for $\\mathbf{w}$.\n",
    "\n",
    "Hint: This is the derivative of the expression you derived from Question 2.1 ($L(\\hat{y},y)$) with respect to $w_j\\in{\\mathbf{w}}$."
   ]
  },
  {
   "cell_type": "markdown",
   "metadata": {},
   "source": [
    "<font color=\"red\">Answer 2.3</font>\n",
    "\n",
    "\\begin{aligned}\n",
    "\\frac{\\partial L(\\hat{y}, y)}{\\partial \\mathbf{w}} &= \\frac{\\partial L(\\hat{y}, y)}{\\partial\\hat{y}} \\frac{\\partial \\hat{y}}{\\partial \\mathbf{w}} \\\\\n",
    "&= \\frac{\\partial -ylog\\hat{y} - (1-y)log(1-\\hat{y})}{\\partial \\hat{y}} \\frac{\\partial \\sigma(\\mathbf{w}^T\\mathbf{x})}{\\partial \\mathbf{w}} \\\\\n",
    "&= \\left(-\\frac{y}{\\hat{y}} + \\frac{1-y}{1-\\hat{y}} \\right) \\sigma(\\mathbf{w}^T\\mathbf{x})(1-\\sigma(\\mathbf{w}^T\\mathbf{x})) \\mathbf{x} \\\\\n",
    "&= (\\hat{y} - y)\\mathbf{x}\n",
    "\\end{aligned}"
   ]
  },
  {
   "cell_type": "markdown",
   "metadata": {},
   "source": [
    "\n",
    "#### [15 Points] Question 2.4: Build a Logistic Regression classifier with the skeleton code below.\n",
    "\n",
    "#### You are allowed to reference the following materials:\n",
    "- Lecture slides and notes from our course.\n",
    "- The [Logistic Regression chapter](https://web.stanford.edu/~jurafsky/slp3/5.pdf) in Dr. Jrafsky and Dr. Martin's *Speech and Language Processing*.\n",
    "- The Wikipedia articles on [Logistic Regression](https://en.wikipedia.org/wiki/Logistic_regression).\n",
    "- Dr. Kilian Q. Weinberger's [course notes](https://www.cs.cornell.edu/courses/cs4780/2018fa/lectures/lecturenote06.html) and lecture recording.\n",
    "- [Scikit-Learn documentation on Logistic Regression](https://scikit-learn.org/stable/modules/generated/sklearn.linear_model.LogisticRegression.html).\n"
   ]
  },
  {
   "cell_type": "code",
   "execution_count": 3,
   "metadata": {},
   "outputs": [],
   "source": [
    "class LogisticRegression :\n",
    "\n",
    "    # you will populate self.classes, self.w with the dimensions of the training data in the self.fit() functionj\n",
    "    # losses will be populated during training with the self.fit() function.\n",
    "    def __init__(self, eps=10e-6) :\n",
    "\n",
    "        self.classes = None\n",
    "        self.w = None\n",
    "        self.losses = []\n",
    "        self.eps = eps\n",
    "\n",
    "    def sigmoid(self, x) :\n",
    "\n",
    "        return 1 / (1 + np.exp(-x))\n",
    "\n",
    "    # This should be your answer from question 2.1\n",
    "    # Adding a small eps value in logs (e.g. np.log(y + eps)) can help with numeric stability.\n",
    "    # you can divide the loss by the number of samples i.e. len(y_true)\n",
    "    def loss(self, y_true, y_pred):\n",
    "\n",
    "        assert y_true.shape == y_pred.shape\n",
    "\n",
    "        return (- y_true * np.log(y_pred + self.eps) - (1 - y_true) * np.log1p(-y_pred + self.eps)).mean()\n",
    "    \n",
    "    def predict_proba(self, x) :\n",
    "        y_pred_probs = self.sigmoid(np.matmul(x, self.w))\n",
    "        y_pred_probs = np.column_stack([1 - y_pred_probs, y_pred_probs])\n",
    "        return y_pred_probs\n",
    "\n",
    "    def predict(self, x) :\n",
    "        \n",
    "        return np.argmax(self.predict_proba(x), axis = 1)\n",
    "    \n",
    "    def fit(self, x: np.array, y_true: np.array, eta = 0.1, C = 0.01, n_iterations = 10000) :\n",
    "\n",
    "        # here eta is the learning rate\n",
    "        # C is the coefficient penalty\n",
    "        # x: [n_sample, n_feature]\n",
    "        # y_true: [n_sample]\n",
    "\n",
    "        # if you labels is of shape (n_samples,) rather than (n_samples,2), this loop will handle it\n",
    "        # don't see the point of change the shape of the y_true\n",
    "        # if len(y_true.shape) == 1 :\n",
    "        #     y_true = np.expand_dims(y_true, axis = -1)\n",
    "        #     y_true = np.column_stack([1-y_true, y_true])\n",
    "\n",
    "        # Number of samples and features\n",
    "        n_features = x.shape[1]\n",
    "        # Get unique class labels\n",
    "        self.classes = np.unique(y_true)\n",
    "        n_classes = self.classes.shape[0]\n",
    "        self.w = np.random.randn(n_features, 1)\n",
    "\n",
    "        self.losses = []\n",
    "        for _ in range(n_iterations) :\n",
    "\n",
    "            y_pred = self.sigmoid(x @ self.w).flatten()\n",
    "            # the gradient should be your answer from question 2.3\n",
    "            gradient = ((y_pred - y_true).reshape(-1,1) * x).mean(axis=0)\n",
    "            self.losses.append(self.loss(y_true, y_pred).item())\n",
    "            self.w -= eta * gradient.reshape(-1,1)"
   ]
  },
  {
   "cell_type": "markdown",
   "metadata": {},
   "source": [
    "# [10 Points] Question 3: Training and Evaluating the Classifiers\n",
    "\n",
    "Now that you have done the hard work of building your models, it's time to train!\n",
    "\n",
    "We have already supplied you with starter code to get your `X_train`, `y_test`, etc (don't worry, you'll get plenty of opportunity for data cleaning and processing in later assignments). Instantiate model objects for both `NaiveBayes` and `LogisticRegression` and use their respective `.fit()`, `.predict_proba()`, and `.predict()` methods to train your models and generate predictions on the test set.\n",
    "\n",
    "As we discussed in the preamble, it's important to generate distributional estimates of your performance (rather than point estimates). There are several ways to get these confidence intervals; however, we are going to consider a fairly lightweight method of doing this by resampling the test set to generate our metrics--if you find this task daunting, we suggest starting with the [definition of bootstrapping](https://en.wikipedia.org/wiki/Bootstrapping_(statistics)) (e.g. how do we sample with replacement with `numpy`), what a 95% [confidence interval](https://en.wikipedia.org/wiki/Confidence_interval) is supposed to represent, and [the primer by Dr. Sebastian Rashka](https://sebastianraschka.com/blog/2022/confidence-intervals-for-ml.html) (specifically [Method 3](https://sebastianraschka.com/blog/2022/confidence-intervals-for-ml.html#method-3-bootstrapping-the-test-set-predictions)).\n",
    "\n",
    "#### [10 Points] 3.1: Using the starter code below, train both a `NaiveBayes` and `LogisticRegression` model and generate 95% confidence intervals for Accuracy, AUPRC, and AUROC by bootstrapping the test set. You may use `sklearn.metrics` to generate your scores."
   ]
  },
  {
   "cell_type": "code",
   "execution_count": 4,
   "metadata": {},
   "outputs": [
    {
     "name": "stdout",
     "output_type": "stream",
     "text": [
      "Label counts: train Counter({np.int64(0): 129, np.int64(1): 113}), test Counter({np.int64(0): 35, np.int64(1): 26})\n"
     ]
    }
   ],
   "source": [
    "# STARTER CODE\n",
    "\n",
    "# If you downloaded the data and label files locally, replace the file paths below.\n",
    "DATA_PATH, LABEL_PATH = os.path.join('data', 'heart_disease_data.csv'), os.path.join('data', 'heart_disease_labels.csv')\n",
    "\n",
    "if os.path.isfile(DATA_PATH) and os.path.isfile(LABEL_PATH) :\n",
    "\n",
    "    X = pd.read_csv(DATA_PATH)\n",
    "    y = pd.read_csv(LABEL_PATH)\n",
    "\n",
    "# If you are using the UCI ML Repo package instead:\n",
    "else :\n",
    "\n",
    "    from ucimlrepo import fetch_ucirepo\n",
    "\n",
    "    heart_disease = fetch_ucirepo(id = 45)\n",
    "    X = heart_disease.data.features\n",
    "    y = heart_disease.data.targets\n",
    "\n",
    "# Feature descriptions from the UCI Machine Learning Repository documentation:\n",
    "# cp (categorical): chest pain type (1: typical angina, 2: atypical angina, 3: non-anginal pain, 4: asymptomatic)\n",
    "# trestbps (integer): resting blood pressure (in mm Hg on admission to the hospital)\n",
    "# chol (integer): serum cholestoral in mg/dl\n",
    "# fbs (categorical): (fasting blood sugar > 120 mg/dl)  (1 = true; 0 = false)\n",
    "# restecg (categorical): resting electrocardiographic results (0: normal, 1: having ST-T wave abnormality (T wave inversions and/or ST elevation or depression of > 0.05 mV), 2: showing probable or definite left ventricular hypertrophy by Estes' criteria)\n",
    "# thalach (integer): maximum heart rate achieved\n",
    "# exang (categorical): exercise induced angina (1 = yes; 0 = no)\n",
    "# oldpeak (integer): ST depression induced by exercise relative to rest\n",
    "# slope (categorical): the slope of the peak exercise ST segment (1: upsloping, 2: flat, 3: downsloping)\n",
    "# ca (integer): number of major vessels (0-3) colored by flourosopy\n",
    "# thal (categorical): 3 = normal; 6 = fixed defect; 7 = reversable defect\n",
    "\n",
    "# Convert labels to binary values.\n",
    "y = y['num'].to_numpy()\n",
    "y[y!=0] = 1\n",
    "\n",
    "data_type_by_columns = {\"age\":\"integer\",\n",
    "                        \"sex\":\"categorical\",\n",
    "                        \"cp\": \"categorical\",\n",
    "                        \"trestbps\": \"integer\",\n",
    "                        \"chol\": \"integer\",\n",
    "                        \"fbs\": \"categorical\",\n",
    "                        \"restecg\": \"categorical\",\n",
    "                        \"thalach\": \"integer\",\n",
    "                        \"exang\": \"categorical\",\n",
    "                        \"oldpeak\": \"integer\",\n",
    "                        \"slope\": \"categorical\",\n",
    "                        \"ca\": \"integer\",\n",
    "                        \"thal\": \"categorical\"}\n",
    "\n",
    "columns_to_convert_to_dummies = [column_name for column_name,data_type in data_type_by_columns.items() if (data_type == 'categorical') and len(set(X[column_name])) > 2]\n",
    "\n",
    "for column_name in columns_to_convert_to_dummies :\n",
    "    current_dummies = pd.get_dummies(X[column_name], prefix = column_name)\n",
    "    X = pd.concat([X, current_dummies], axis = 1)\n",
    "\n",
    "X_train, X_test, y_train, y_test = train_test_split(X, y, test_size = 0.2, random_state = 0)\n",
    "\n",
    "print(f'Label counts: train {Counter(y_train)}, test {Counter(y_test)}')\n",
    "\n",
    "median_imputer = SimpleImputer(missing_values = np.nan, strategy = 'median')\n",
    "median_imputer.fit(X_train)\n",
    "X_train, X_test = median_imputer.transform(X_train), median_imputer.transform(X_test)\n",
    "\n",
    "scaler = StandardScaler()\n",
    "scaler.fit(X_train)\n",
    "X_train, X_test = scaler.transform(X_train), scaler.transform(X_test)"
   ]
  },
  {
   "cell_type": "code",
   "execution_count": 5,
   "metadata": {},
   "outputs": [],
   "source": [
    "def bootstrap_test_from_pred(label, pred_prob, bootstrap_num=200, bootstrap_sample_size=1000, **kwargs):\n",
    "    assert pred_prob.shape[0] == label.shape[0]\n",
    "\n",
    "    pred = np.argmax(pred_prob, axis = 1)\n",
    "    idx = np.arange(label.shape[0])\n",
    "\n",
    "    metric_dict = {k:[] for k in kwargs.keys()}\n",
    "\n",
    "    for i in range(bootstrap_num):\n",
    "        bootstrap_sample_idx = np.random.RandomState(seed=i).choice(idx, size=bootstrap_sample_size, replace=True)\n",
    "        bootstrap_label = label[bootstrap_sample_idx]\n",
    "        bootstrap_pred = pred[bootstrap_sample_idx]\n",
    "        bootstrap_pred_prob = pred_prob[bootstrap_sample_idx, :]\n",
    "\n",
    "        for metric, func in kwargs.items():\n",
    "            if \"AUC\" in metric:\n",
    "                metric_dict[metric].append(func(bootstrap_label, bootstrap_pred_prob[:,1]))\n",
    "            else:\n",
    "                metric_dict[metric].append(func(bootstrap_label, bootstrap_pred))\n",
    "    \n",
    "    return metric_dict"
   ]
  },
  {
   "cell_type": "markdown",
   "metadata": {},
   "source": [
    "### NaiveBayes"
   ]
  },
  {
   "cell_type": "code",
   "execution_count": 6,
   "metadata": {},
   "outputs": [],
   "source": [
    "naivebayes = NaiveBayes()\n",
    "naivebayes.fit(X_train, y_train)\n",
    "naivebayes_pred_prob = naivebayes.predict_proba(X_test)"
   ]
  },
  {
   "cell_type": "code",
   "execution_count": 7,
   "metadata": {},
   "outputs": [],
   "source": [
    "test_metrics = bootstrap_test_from_pred(label=y_test, pred_prob=naivebayes_pred_prob, bootstrap_sample_size=y_test.shape[0], PRAUC=average_precision_score, ROAUC=roc_auc_score, Accuracy=accuracy_score)"
   ]
  },
  {
   "cell_type": "code",
   "execution_count": 8,
   "metadata": {},
   "outputs": [
    {
     "name": "stdout",
     "output_type": "stream",
     "text": [
      "Bootstrap Metrics Evaluation for Naive Bayes\n",
      "\n",
      "PRAUC:\n",
      "Mean: 0.845\n",
      "95% CI Upper: 0.942\n",
      "95% CI Lower: 0.719\n",
      "***************\n",
      "ROAUC:\n",
      "Mean: 0.844\n",
      "95% CI Upper: 0.936\n",
      "95% CI Lower: 0.720\n",
      "***************\n",
      "Accuracy:\n",
      "Mean: 0.805\n",
      "95% CI Upper: 0.902\n",
      "95% CI Lower: 0.705\n",
      "***************\n"
     ]
    }
   ],
   "source": [
    "method_name = \"Naive Bayes\"\n",
    "print(f\"Bootstrap Metrics Evaluation for {method_name}\\n\")\n",
    "for metric, metric_res in test_metrics.items():\n",
    "    print(f\"{metric}:\")\n",
    "    print(f\"Mean: {np.mean(metric_res):.3f}\")\n",
    "    print(f\"95% CI Upper: {np.percentile(metric_res, 97.5):.3f}\")\n",
    "    print(f\"95% CI Lower: {np.percentile(metric_res, 2.5):.3f}\")\n",
    "    print(\"*\"*15)"
   ]
  },
  {
   "cell_type": "code",
   "execution_count": 9,
   "metadata": {},
   "outputs": [
    {
     "data": {
      "image/png": "[encoded data removed]",
      "text/plain": [
       "<Figure size 640x480 with 1 Axes>"
      ]
     },
     "metadata": {},
     "output_type": "display_data"
    }
   ],
   "source": [
    "sns.boxplot(data=pd.DataFrame(test_metrics).melt(var_name=\"Metrics\"), x=\"Metrics\", y=\"value\", hue=\"Metrics\")\n",
    "plt.xlabel(None)\n",
    "plt.ylabel(None)\n",
    "plt.title(f\"Bootstrap Metrics Evaluation for {method_name}\")\n",
    "plt.show()"
   ]
  },
  {
   "cell_type": "markdown",
   "metadata": {},
   "source": [
    "### Logistic Regression"
   ]
  },
  {
   "cell_type": "code",
   "execution_count": 10,
   "metadata": {},
   "outputs": [],
   "source": [
    "logistic = LogisticRegression()\n",
    "logistic.fit(X_train, y_train)\n",
    "logistic_pred_prob = logistic.predict_proba(X_test)"
   ]
  },
  {
   "cell_type": "code",
   "execution_count": 11,
   "metadata": {},
   "outputs": [],
   "source": [
    "test_metrics = bootstrap_test_from_pred(label=y_test, pred_prob=logistic_pred_prob, bootstrap_sample_size=y_test.shape[0], PRAUC=average_precision_score, ROAUC=roc_auc_score, Accuracy=accuracy_score)"
   ]
  },
  {
   "cell_type": "code",
   "execution_count": 12,
   "metadata": {},
   "outputs": [
    {
     "name": "stdout",
     "output_type": "stream",
     "text": [
      "Bootstrap Metrics Evaluation for Logistics Regression\n",
      "\n",
      "PRAUC:\n",
      "Mean: 0.842\n",
      "95% CI Upper: 0.949\n",
      "95% CI Lower: 0.697\n",
      "***************\n",
      "ROAUC:\n",
      "Mean: 0.867\n",
      "95% CI Upper: 0.955\n",
      "95% CI Lower: 0.767\n",
      "***************\n",
      "Accuracy:\n",
      "Mean: 0.757\n",
      "95% CI Upper: 0.852\n",
      "95% CI Lower: 0.639\n",
      "***************\n"
     ]
    }
   ],
   "source": [
    "method_name = \"Logistics Regression\"\n",
    "print(f\"Bootstrap Metrics Evaluation for {method_name}\\n\")\n",
    "for metric, metric_res in test_metrics.items():\n",
    "    print(f\"{metric}:\")\n",
    "    print(f\"Mean: {np.mean(metric_res):.3f}\")\n",
    "    print(f\"95% CI Upper: {np.percentile(metric_res, 97.5):.3f}\")\n",
    "    print(f\"95% CI Lower: {np.percentile(metric_res, 2.5):.3f}\")\n",
    "    print(\"*\"*15)"
   ]
  },
  {
   "cell_type": "code",
   "execution_count": 13,
   "metadata": {},
   "outputs": [
    {
     "data": {
      "image/png": "[encoded data removed]",
      "text/plain": [
       "<Figure size 640x480 with 1 Axes>"
      ]
     },
     "metadata": {},
     "output_type": "display_data"
    }
   ],
   "source": [
    "sns.boxplot(data=pd.DataFrame(test_metrics).melt(var_name=\"Metrics\"), x=\"Metrics\", y=\"value\", hue=\"Metrics\")\n",
    "plt.xlabel(None)\n",
    "plt.ylabel(None)\n",
    "plt.title(f\"Bootstrap Metrics Evaluation for {method_name}\")\n",
    "plt.show()"
   ]
  }
 ],
 "metadata": {
  "kernelspec": {
   "display_name": "base",
   "language": "python",
   "name": "python3"
  },
  "language_info": {
   "codemirror_mode": {
    "name": "ipython",
    "version": 3
   },
   "file_extension": ".py",
   "mimetype": "text/x-python",
   "name": "python",
   "nbconvert_exporter": "python",
   "pygments_lexer": "ipython3",
   "version": "3.12.8"
  }
 },
 "nbformat": 4,
 "nbformat_minor": 2
}
