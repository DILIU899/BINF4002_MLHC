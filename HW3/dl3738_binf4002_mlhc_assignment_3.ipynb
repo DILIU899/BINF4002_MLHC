{
 "cells": [
  {
   "cell_type": "markdown",
   "metadata": {},
   "source": [
    "# BINF GU 4002: Machine Learning for Healthcare, Spring 2025\n",
    "# Assignment \\#3: Multilayer Perceptrons and Classification with Electronic Health Record Data\n",
    "\n",
    "This assignment covers two separate but significant tasks in modern clinical informatics: 1) deep learning and 2) classification with electronic health record (EHR) data.\n",
    "\n",
    "For the first part of the assignment, you will be implementing multilayer perceptrons with gradient descent. The exercise is to understand when (and why) the \"deep\" part of deep learning is necessary with a classic problem in machine learning.\n",
    "\n",
    "The second part of the assignment is on a classic task in machine learning for healthcare: predicting in hospital mortality for patients in acute care settings.\n",
    "\n",
    "**You will need access to [MIMIC IV version 3.1](https://physionet.org/content/mimiciv/3.1/) for this assignment!**\n",
    "\n",
    "**<font color=\"red\">Please make sure that your Notebook runs (no running cells out of order!) and that your written answers are formatted using </font>$\\LaTeX$<font color=\"red\"> in `markdown` cells.</font>**\n",
    "\n",
    "**<font color=\"red\">When submitting, please name your files `{UNI}_binf4002_mlh_assignment_3.{filetype}` and submit both a `.ipynb` and `.html` version of your Jupyter notebook.</font>**\n",
    "\n",
    "#### Best of Luck!"
   ]
  },
  {
   "cell_type": "code",
   "execution_count": 1,
   "metadata": {},
   "outputs": [],
   "source": [
    "import numpy as np\n",
    "np.random.seed(0)\n",
    "import pandas as pd\n",
    "import matplotlib.pyplot as plt\n",
    "import seaborn as sns\n",
    "\n",
    "from sklearn.impute import SimpleImputer\n",
    "from sklearn.compose import ColumnTransformer\n",
    "from sklearn.preprocessing import StandardScaler, OrdinalEncoder\n",
    "from sklearn.model_selection import StratifiedShuffleSplit, StratifiedGroupKFold, RandomizedSearchCV, train_test_split\n",
    "from sklearn.ensemble import HistGradientBoostingClassifier\n",
    "from sklearn.linear_model import LogisticRegression\n",
    "from sklearn.metrics import roc_auc_score, average_precision_score, accuracy_score, recall_score, precision_score, f1_score\n",
    "\n",
    "from tqdm import tqdm"
   ]
  },
  {
   "cell_type": "markdown",
   "metadata": {},
   "source": [
    "## [50 Points] Question 1: Implement a Multilayer Perceptron with Gradient Descent on Noisy XOR Data\n",
    "\n",
    "We will be implementing and training multilayer perceptrons as an exercise to explore why deep learning is useful.\n",
    "\n",
    "Our data will be generated in part using the XOR (\"exclusive or\") operator, denoted as $P\\oplus{Q}$, is a [logical operator](https://en.wikipedia.org/wiki/Logical_connective) with the following truth table:\n",
    "\n",
    "| $P$ | $Q$ |  $P\\oplus{Q}$|\n",
    "| :-: | :-: | :-: |\n",
    "| 1 | 1 | 0 |\n",
    "| 1 | 0 | 1 |\n",
    "| 0 | 1 | 1 |\n",
    "| 0 | 0 | 0 |\n",
    "\n",
    "We have generated the noisy version of XOR for you."
   ]
  },
  {
   "cell_type": "code",
   "execution_count": 2,
   "metadata": {},
   "outputs": [
    {
     "name": "stdout",
     "output_type": "stream",
     "text": [
      "X_train.shape=(1440, 2), X_val.shape=(160, 2) X_test.shape=(400, 2)\n"
     ]
    }
   ],
   "source": [
    "def generate_noisy_xor_data(sep = 0.1, n_samples = 1000) :\n",
    "\n",
    "    X, y = [], []\n",
    "    for x0, x1 in [(0,0), (0,1), (1,0), (1,1)] :\n",
    "\n",
    "        current_sample_size = n_samples // 4\n",
    "        X.append(np.vstack([np.random.normal(x0, sep, size = current_sample_size), np.random.normal(x1, sep, size = current_sample_size)]).T)\n",
    "        y.append([np.logical_xor(x0,x1).astype(int)] * current_sample_size)\n",
    "        \n",
    "    X = np.vstack(X)\n",
    "    y = np.hstack(y)\n",
    "    # y = np.expand_dims(np.hstack(y), axis = -1)\n",
    "\n",
    "    return X, y\n",
    "\n",
    "X, y = generate_noisy_xor_data(n_samples = 2000, sep = 0.1)\n",
    "\n",
    "X_train, X_test, y_train, y_test = train_test_split(X, y, test_size = 0.2)\n",
    "X_train, X_val, y_train, y_val = train_test_split(X_train, y_train, test_size = 0.1)\n",
    "\n",
    "print(f'{X_train.shape=}, {X_val.shape=} {X_test.shape=}')\n",
    "\n",
    "scaler = StandardScaler()\n",
    "X_train = scaler.fit_transform(X_train)\n",
    "X_val_scaled = scaler.transform(X_val)\n",
    "X_test = scaler.transform(X_test)"
   ]
  },
  {
   "cell_type": "markdown",
   "metadata": {},
   "source": [
    "\n",
    "#### [10 Points] 1.1: Interpret the figure with the decision boundary below (`Figure for Question 1.1`). Make sure to discuss what model was used (look at the code block), whether you think this is a good model (and why), and what the decision boundary shows us."
   ]
  },
  {
   "cell_type": "code",
   "execution_count": 3,
   "metadata": {},
   "outputs": [],
   "source": [
    "def plot_decision_boundary(model):   \n",
    "    # Get arrays for plotting\n",
    "    X_for_decision_boundary = np.vstack(np.meshgrid(np.arange(-0.5, 1.51, 0.02), np.arange(-0.5, 1.51, 0.02))).reshape(2, -1).T\n",
    "    X_for_decision_boundary_scaled = scaler.transform(X_for_decision_boundary)\n",
    "\n",
    "    X_val_preds = model.predict(X_val_scaled)\n",
    "    X_val_pred_colors = np.array(['tab:orange' if e == 0 else 'tab:blue' for e in X_val_preds])\n",
    "    X_for_decision_boundary_preds = model.predict(X_for_decision_boundary_scaled)\n",
    "    X_for_decision_boundary_colors = np.array(['tab:orange' if e == 0 else 'tab:blue' for e in X_for_decision_boundary_preds])\n",
    "\n",
    "    # Plot\n",
    "    fig, ax = plt.subplots(1,3, figsize = (15,5))\n",
    "\n",
    "    ax = ax.flatten()\n",
    "\n",
    "    ax[0].scatter(X_val[y_val == 0][:,0],X_val[y_val==0][:,1], color = 'tab:orange', marker = 'o', facecolor = 'None', label = 'Label 0')\n",
    "    ax[0].scatter(X_val[y_val == 1][:,0],X_val[y_val==1][:,1], color = 'tab:blue', marker = 'x', label = 'Label 1')\n",
    "    ax[0].set_title('Ground Truth Validation Data')\n",
    "    ax[0].legend()\n",
    "\n",
    "    ax[1].scatter(X_val[y_val == 0][:,0],X_val[y_val==0][:,1], color = X_val_pred_colors[y_val == 0], marker = 'o', facecolor = 'None')\n",
    "    ax[1].scatter(X_val[y_val == 1][:,0],X_val[y_val==1][:,1], color = X_val_pred_colors[y_val == 1], marker = 'x')\n",
    "    ax[1].set_title('Predicted Labels for Validation Data')\n",
    "\n",
    "    ax[2].scatter(X_for_decision_boundary[:,0],X_for_decision_boundary[:,1], color = X_for_decision_boundary_colors)\n",
    "    ax[2].scatter(X_val[y_val == 0][:,0],X_val[y_val==0][:,1], color = 'black', marker = 'o', facecolor = 'None')\n",
    "    ax[2].scatter(X_val[y_val == 1][:,0],X_val[y_val==1][:,1], color = 'black', marker = 'x')\n",
    "    ax[2].set_title('Decision Boundaries')\n",
    "\n",
    "    for i in range(3) :\n",
    "        \n",
    "        ax[i].set_xlim(-0.5, 1.5)\n",
    "        ax[i].set_ylim(-0.5, 1.5)\n",
    "\n",
    "    fig.suptitle('Figure for Question 1.1', fontweight = 'bold')\n",
    "\n",
    "    plt.show()\n",
    "    plt.close()"
   ]
  },
  {
   "cell_type": "code",
   "execution_count": 4,
   "metadata": {},
   "outputs": [
    {
     "data": {
      "image/png": "[encoded data removed]",
      "text/plain": [
       "<Figure size 1500x500 with 3 Axes>"
      ]
     },
     "metadata": {},
     "output_type": "display_data"
    }
   ],
   "source": [
    "# CODE BLOCK FOR QUESTION 1.1\n",
    "\n",
    "# Train model\n",
    "lr = LogisticRegression()\n",
    "lr.fit(X_train, y_train)\n",
    "\n",
    "plot_decision_boundary(lr)"
   ]
  },
  {
   "cell_type": "markdown",
   "metadata": {},
   "source": [
    "<font color=\"red\">Answer 1.1</font>\n",
    "\n",
    "Here we are using the logistic regression as the predictor, which can only generate the linear decision boundary. We can imagine that though logistic regression is giving a non-linear predicted \"probability\" $\\sigma(w^Tx)$, if we use a threshold (say, 0.5) to give a predicted label, our decision rule is equivalent to\n",
    "\n",
    "$$\n",
    "\\hat{y} =\n",
    "\\begin{cases}\n",
    "&1 & w^Tx \\ge 0 \\\\\n",
    "&0 & w^Tx < 0\n",
    "\\end{cases}\n",
    "$$\n",
    "\n",
    "which is effectively a linear decision boundary.\n",
    "\n",
    "However, in this case, the label is linearly inseparable, making the logistic regression a failure. We can observe that the model is predicting more than half of the points wrong."
   ]
  },
  {
   "cell_type": "markdown",
   "metadata": {},
   "source": [
    "#### [30 Points] 1.2: Implement a Multilayer Perceptron model with the skeleton code below. Use only base `numpy`.\n",
    "\n",
    "We are implementing a feedforward neural network with:\n",
    "\n",
    "- Two hidden layers with [ReLU](https://en.wikipedia.org/wiki/Rectifier_(neural_networks)) activation.\n",
    "    - Think about the shape of the weight matrices. Your `MLP` class takes in `input_dims`, `hidden_dims`, and `output_dims` as parameters. What dimensions should weights `W1` and `W2` and biases `b1` and `b1` have?\n",
    "    - Do not zero intialize your weights. Read the Wikipedia article on [Weight Initialization](https://en.wikipedia.org/wiki/Weight_initialization) if you want details on why.\n",
    "- The MLP is for a binary classification task\n",
    "    - Think about whether the output layer need an activation function and if it does what activation function that might be.\n",
    "- We will use a vanilla gradient update.\n",
    "\n",
    "**If you feel particularly lost, refer to the Stanford CS231N notes on the MLP classifier ([1](https://cs231n.github.io/neural-networks-1/), [2](https://cs231n.github.io/optimization-2/), [3](https://cs231n.github.io/neural-networks-3/), [4](https://cs231n.github.io/neural-networks-case-study/)) or the [*Dive into Deep Learning*](https://d2l.ai/chapter_multilayer-perceptrons/index.html) chapter on MLPs.**"
   ]
  },
  {
   "cell_type": "markdown",
   "metadata": {},
   "source": [
    "![MLP](./MLP.jpg)"
   ]
  },
  {
   "cell_type": "code",
   "execution_count": 5,
   "metadata": {},
   "outputs": [],
   "source": [
    "# QUESTION 1.2\n",
    "\n",
    "class MLP:\n",
    "\n",
    "    def __init__(self, input_dims = 2, hidden_dims = 10, output_dims = 1):\n",
    "\n",
    "        # Initialize the weights and biases for the two layers\n",
    "        self.input_dims = input_dims\n",
    "        self.hidden_dims = hidden_dims\n",
    "        self.output_dims = output_dims\n",
    "    \n",
    "        # Be conscious of what the dimensions of each W and b are with respect to input_dims, hidden_dims, and output_dims.\n",
    "        # Do not initialize W with np.zeros (i.e. zero intialization). Read this for more information: https://en.wikipedia.org/wiki/Weight_initialization\n",
    "        # An easy intialization is 0.01 * np.random.randn()\n",
    "        # Sidebar: intitialization of neural networks was a big issue back in the aughts. Look up Kaiming / He and Xavier / Glorot initialization for landmark papers.\n",
    "        self.W1 = 0.01 * np.random.randn(input_dims, hidden_dims)\n",
    "        self.b1 = np.zeros(hidden_dims)\n",
    "        self.W2 = 0.01 * np.random.randn(hidden_dims, output_dims)\n",
    "        self.b2 = np.zeros(output_dims)\n",
    "\n",
    "    def relu(self, X):\n",
    "        # relu(X) = X if X > 0 else 0\n",
    "        return np.maximum(X, 0)\n",
    "    \n",
    "    def relu_derivative(self, X):\n",
    "        # if X > 0 return 1 else 0\n",
    "        return (X > 0).astype(int)\n",
    "    \n",
    "    def sigmoid(self, X):\n",
    "        # sigma(x) = 1 / (1 + np.exp(X))\n",
    "        return 1 / (1 + np.exp(-X))\n",
    "    \n",
    "    # def sigmoid_derivative(self, X) :\n",
    "    #     # d/dx sigma(x) = sigma(x) * (1 - sigma(x))\n",
    "    #     # TO-DO\n",
    "    #     return None\n",
    "\n",
    "    def forward_and_backward(self, X, y):\n",
    "        # Forward pass of input\n",
    "        # https://d2l.ai/chapter_multilayer-perceptrons/backprop.html#forward-propagation\n",
    "\n",
    "        z1 = X @ self.W1 + self.b1\n",
    "        a1 = self.relu(z1)\n",
    "        z2 = a1 @ self.W2 + self.b2\n",
    "        a2 = self.sigmoid(z2)\n",
    "\n",
    "        loss = -np.mean(y * np.log(a2) + (1 - y) * np.log(1 - a2))\n",
    "\n",
    "        # Backward pass\n",
    "        dldz2 = a2 - y\n",
    "        dldw2 = a1.T @ dldz2\n",
    "        dldb2 = np.sum(dldz2, axis=0)\n",
    "\n",
    "        dldz1 = (dldz2 @ self.W2.T) * self.relu_derivative(z1)\n",
    "        dldw1 = X.T @ dldz1\n",
    "        dldb1 = np.sum(dldz1, axis=0)\n",
    "        \n",
    "\n",
    "        return {\"dldw1\": dldw1, \"dldw2\": dldw2, \"dldb1\": dldb1, \"dldb2\": dldb2, \"loss\": loss}\n",
    "\n",
    "\n",
    "    def fit(self, X, Y, epochs, learning_rate):\n",
    "        # Call forward and backward in each epoch\n",
    "        if len(Y.shape) == 1:\n",
    "            Y = Y.reshape(-1, 1)\n",
    "            \n",
    "        # TO-DO\n",
    "        losses = []\n",
    "        for epoch in range(epochs):\n",
    "            gradient = self.forward_and_backward(X,Y)\n",
    "            dldw1 = gradient[\"dldw1\"]\n",
    "            dldw2 = gradient[\"dldw2\"]\n",
    "            dldb1 = gradient[\"dldb1\"]\n",
    "            dldb2 = gradient[\"dldb2\"]\n",
    "            loss = gradient[\"loss\"]\n",
    "\n",
    "            # gradient descent\n",
    "            self.W1 -= learning_rate * dldw1\n",
    "            self.W2 -= learning_rate * dldw2\n",
    "            self.b1 -= learning_rate * dldb1\n",
    "            self.b2 -= learning_rate * dldb2\n",
    "\n",
    "            losses.append(loss)\n",
    "\n",
    "        return losses\n",
    "\n",
    "    def predict(self, X, threshold = 0.5):\n",
    "        \n",
    "        # TO-DO\n",
    "        z1 = X @ self.W1 + self.b1\n",
    "        a1 = self.relu(z1)\n",
    "        z2 = a1 @ self.W2 + self.b2\n",
    "        a2 = self.sigmoid(z2)\n",
    "\n",
    "        return (a2 > threshold).astype(int)"
   ]
  },
  {
   "cell_type": "markdown",
   "metadata": {},
   "source": [
    "#### [10 Points] 1.3: Train your MLP model using the Noisy XOR data with `hidden_dims=20` and `epochs=500`. Recreate the Plot from Question 1.1 with your model. Interpret your results--how is the decision boundary different than in 1.2? (Feel free to use the code block from 1.1).\n",
    "\n",
    "#### You are allowed to reference the following materials:\n",
    "- All course notes from our course.\n",
    "- The [Wikipedia article on MLPs](https://en.wikipedia.org/wiki/Multilayer_perceptron).\n",
    "- The [*Dive into Deep Learning*](https://d2l.ai/chapter_multilayer-perceptrons/index.html) chapter on MLPs.\n",
    "- Course notes from [Module 1: Neural Networks](https://cs231n.github.io/) from CS231N Convolutional Neural Networks for Visual Recognition at Stanford University.\n",
    "- The [`scikit-learn`](https://scikit-learn.org/stable/modules/neural_networks_supervised.html) documentation on MLPs (do **not** use any package other than `numpy` for question 1.3)."
   ]
  },
  {
   "cell_type": "code",
   "execution_count": 6,
   "metadata": {},
   "outputs": [],
   "source": [
    "model = MLP(input_dims=X.shape[1], hidden_dims=20, output_dims=1)\n",
    "losses = model.fit(X_train, y_train, epochs=500, learning_rate=1e-3)"
   ]
  },
  {
   "cell_type": "code",
   "execution_count": 7,
   "metadata": {},
   "outputs": [
    {
     "data": {
      "image/png": "[encoded data removed]",
      "text/plain": [
       "<Figure size 640x480 with 1 Axes>"
      ]
     },
     "metadata": {},
     "output_type": "display_data"
    }
   ],
   "source": [
    "plt.plot(losses)\n",
    "plt.xlabel(\"Epoch\")\n",
    "plt.ylabel(\"Train Loss\")\n",
    "plt.show()"
   ]
  },
  {
   "cell_type": "code",
   "execution_count": 8,
   "metadata": {},
   "outputs": [
    {
     "data": {
      "image/png": "[encoded data removed]",
      "text/plain": [
       "<Figure size 1500x500 with 3 Axes>"
      ]
     },
     "metadata": {},
     "output_type": "display_data"
    }
   ],
   "source": [
    "plot_decision_boundary(model)"
   ]
  },
  {
   "cell_type": "markdown",
   "metadata": {},
   "source": [
    "<font color=\"red\">Answer 1.3</font>\n",
    "\n",
    "Now the decision boundary is apparently different from what we observed in logistic regression. Now the decision boundary is not a linear boundary. This non-linearity comes from our non-linear activation function ReLU."
   ]
  },
  {
   "cell_type": "markdown",
   "metadata": {},
   "source": [
    "# [50 Points] Question 2: Classification of Adverse Patient Events with Electronic Health Record Data\n",
    "\n",
    "Inclusion criteria\n",
    "- All subjects who have a length of stay greater or equal to 24 hours.\n",
    "- Subjects who were admitted in an urgent care setting (see [this conversation](https://github.com/MIT-LCP/mimic-code/discussions/1215)).\n",
    "\n",
    "This is intentionally an open-ended problem. We want to challenge you--there is no single correct approach to solve this problem. Feel free to flex your creativity in leveraging the different things you've learned in this class.\n",
    "\n",
    "EHR-based classification of adverse events is an entire research field of itself. This *Nature Protocols* paper from 2021 [\"Use of deep learning to develop continuous-risk models for adverse event prediction from electronic health records\"](https://www.nature.com/articles/s41596-021-00513-5) by Tomašev et al. is a good step-by-step overview of the challenges associated with this space.\n",
    "\n",
    "\n",
    "**Instructor Note: I did all of the data extraction and manipulation with `Python` and `Pandas`. If you prefer to use `SQL` for this step, please feel free to do so! (Just make sure to show your work).**\n",
    "\n",
    "#### [20 Points] Question 2.1: Generate Feature Vectors and Labels from MIMIC-IV for In-Hospital Mortality Prediction\n",
    "\n",
    "At **minimum**, you should:\n",
    "- Generate in-hospital mortality labels.\n",
    "- Use inclusion and exclusion criteria to select the appropriate visits.\n",
    "- Think critically about what features may be useful.\n",
    "- Create feature vectors representing visits.\n",
    "- Deal with missingness and outliers. Think about [imputation](https://scikit-learn.org/stable/modules/impute.html) and how to [detect / handle outlier values](https://online.stat.psu.edu/stat200/lesson/3/3.2) (note that these are examples, feel free to explore other methods).\n",
    "- Consider how to deal with repeated measures.\n",
    "- Take steps to prevent data leakage with good empirical practices.\n",
    "\n",
    "`MIMIC-IV` contains several tables. I suggest starting `patients` and `admissions` under the `hosp` folder. Think about the different unique identifiers (UIDs)--`subject_id`,\t`hadm_id`--and how to generate visit-based features while stratifying across subjects (patients)."
   ]
  },
  {
   "cell_type": "code",
   "execution_count": 2,
   "metadata": {},
   "outputs": [],
   "source": [
    "patient = pd.read_csv(\"./data/hosp/patients.csv.gz\")\n",
    "admission = pd.read_csv(\"./data/hosp/admissions.csv.gz\")"
   ]
  },
  {
   "cell_type": "code",
   "execution_count": 3,
   "metadata": {},
   "outputs": [
    {
     "data": {
      "text/html": [
       "<div>\n",
       "<style scoped>\n",
       "    .dataframe tbody tr th:only-of-type {\n",
       "        vertical-align: middle;\n",
       "    }\n",
       "\n",
       "    .dataframe tbody tr th {\n",
       "        vertical-align: top;\n",
       "    }\n",
       "\n",
       "    .dataframe thead th {\n",
       "        text-align: right;\n",
       "    }\n",
       "</style>\n",
       "<table border=\"1\" class=\"dataframe\">\n",
       "  <thead>\n",
       "    <tr style=\"text-align: right;\">\n",
       "      <th></th>\n",
       "      <th>subject_id</th>\n",
       "      <th>hadm_id</th>\n",
       "      <th>admittime</th>\n",
       "      <th>dischtime</th>\n",
       "      <th>deathtime</th>\n",
       "      <th>admission_type</th>\n",
       "      <th>admit_provider_id</th>\n",
       "      <th>admission_location</th>\n",
       "      <th>discharge_location</th>\n",
       "      <th>insurance</th>\n",
       "      <th>language</th>\n",
       "      <th>marital_status</th>\n",
       "      <th>race</th>\n",
       "      <th>edregtime</th>\n",
       "      <th>edouttime</th>\n",
       "      <th>hospital_expire_flag</th>\n",
       "    </tr>\n",
       "  </thead>\n",
       "  <tbody>\n",
       "    <tr>\n",
       "      <th>0</th>\n",
       "      <td>10000032</td>\n",
       "      <td>22595853</td>\n",
       "      <td>2180-05-06 22:23:00</td>\n",
       "      <td>2180-05-07 17:15:00</td>\n",
       "      <td>NaN</td>\n",
       "      <td>URGENT</td>\n",
       "      <td>P49AFC</td>\n",
       "      <td>TRANSFER FROM HOSPITAL</td>\n",
       "      <td>HOME</td>\n",
       "      <td>Medicaid</td>\n",
       "      <td>English</td>\n",
       "      <td>WIDOWED</td>\n",
       "      <td>WHITE</td>\n",
       "      <td>2180-05-06 19:17:00</td>\n",
       "      <td>2180-05-06 23:30:00</td>\n",
       "      <td>0</td>\n",
       "    </tr>\n",
       "    <tr>\n",
       "      <th>1</th>\n",
       "      <td>10000032</td>\n",
       "      <td>22841357</td>\n",
       "      <td>2180-06-26 18:27:00</td>\n",
       "      <td>2180-06-27 18:49:00</td>\n",
       "      <td>NaN</td>\n",
       "      <td>EW EMER.</td>\n",
       "      <td>P784FA</td>\n",
       "      <td>EMERGENCY ROOM</td>\n",
       "      <td>HOME</td>\n",
       "      <td>Medicaid</td>\n",
       "      <td>English</td>\n",
       "      <td>WIDOWED</td>\n",
       "      <td>WHITE</td>\n",
       "      <td>2180-06-26 15:54:00</td>\n",
       "      <td>2180-06-26 21:31:00</td>\n",
       "      <td>0</td>\n",
       "    </tr>\n",
       "    <tr>\n",
       "      <th>2</th>\n",
       "      <td>10000032</td>\n",
       "      <td>25742920</td>\n",
       "      <td>2180-08-05 23:44:00</td>\n",
       "      <td>2180-08-07 17:50:00</td>\n",
       "      <td>NaN</td>\n",
       "      <td>EW EMER.</td>\n",
       "      <td>P19UTS</td>\n",
       "      <td>EMERGENCY ROOM</td>\n",
       "      <td>HOSPICE</td>\n",
       "      <td>Medicaid</td>\n",
       "      <td>English</td>\n",
       "      <td>WIDOWED</td>\n",
       "      <td>WHITE</td>\n",
       "      <td>2180-08-05 20:58:00</td>\n",
       "      <td>2180-08-06 01:44:00</td>\n",
       "      <td>0</td>\n",
       "    </tr>\n",
       "    <tr>\n",
       "      <th>3</th>\n",
       "      <td>10000032</td>\n",
       "      <td>29079034</td>\n",
       "      <td>2180-07-23 12:35:00</td>\n",
       "      <td>2180-07-25 17:55:00</td>\n",
       "      <td>NaN</td>\n",
       "      <td>EW EMER.</td>\n",
       "      <td>P06OTX</td>\n",
       "      <td>EMERGENCY ROOM</td>\n",
       "      <td>HOME</td>\n",
       "      <td>Medicaid</td>\n",
       "      <td>English</td>\n",
       "      <td>WIDOWED</td>\n",
       "      <td>WHITE</td>\n",
       "      <td>2180-07-23 05:54:00</td>\n",
       "      <td>2180-07-23 14:00:00</td>\n",
       "      <td>0</td>\n",
       "    </tr>\n",
       "    <tr>\n",
       "      <th>4</th>\n",
       "      <td>10000068</td>\n",
       "      <td>25022803</td>\n",
       "      <td>2160-03-03 23:16:00</td>\n",
       "      <td>2160-03-04 06:26:00</td>\n",
       "      <td>NaN</td>\n",
       "      <td>EU OBSERVATION</td>\n",
       "      <td>P39NWO</td>\n",
       "      <td>EMERGENCY ROOM</td>\n",
       "      <td>NaN</td>\n",
       "      <td>NaN</td>\n",
       "      <td>English</td>\n",
       "      <td>SINGLE</td>\n",
       "      <td>WHITE</td>\n",
       "      <td>2160-03-03 21:55:00</td>\n",
       "      <td>2160-03-04 06:26:00</td>\n",
       "      <td>0</td>\n",
       "    </tr>\n",
       "  </tbody>\n",
       "</table>\n",
       "</div>"
      ],
      "text/plain": [
       "   subject_id   hadm_id            admittime            dischtime deathtime  \\\n",
       "0    10000032  22595853  2180-05-06 22:23:00  2180-05-07 17:15:00       NaN   \n",
       "1    10000032  22841357  2180-06-26 18:27:00  2180-06-27 18:49:00       NaN   \n",
       "2    10000032  25742920  2180-08-05 23:44:00  2180-08-07 17:50:00       NaN   \n",
       "3    10000032  29079034  2180-07-23 12:35:00  2180-07-25 17:55:00       NaN   \n",
       "4    10000068  25022803  2160-03-03 23:16:00  2160-03-04 06:26:00       NaN   \n",
       "\n",
       "   admission_type admit_provider_id      admission_location  \\\n",
       "0          URGENT            P49AFC  TRANSFER FROM HOSPITAL   \n",
       "1        EW EMER.            P784FA          EMERGENCY ROOM   \n",
       "2        EW EMER.            P19UTS          EMERGENCY ROOM   \n",
       "3        EW EMER.            P06OTX          EMERGENCY ROOM   \n",
       "4  EU OBSERVATION            P39NWO          EMERGENCY ROOM   \n",
       "\n",
       "  discharge_location insurance language marital_status   race  \\\n",
       "0               HOME  Medicaid  English        WIDOWED  WHITE   \n",
       "1               HOME  Medicaid  English        WIDOWED  WHITE   \n",
       "2            HOSPICE  Medicaid  English        WIDOWED  WHITE   \n",
       "3               HOME  Medicaid  English        WIDOWED  WHITE   \n",
       "4                NaN       NaN  English         SINGLE  WHITE   \n",
       "\n",
       "             edregtime            edouttime  hospital_expire_flag  \n",
       "0  2180-05-06 19:17:00  2180-05-06 23:30:00                     0  \n",
       "1  2180-06-26 15:54:00  2180-06-26 21:31:00                     0  \n",
       "2  2180-08-05 20:58:00  2180-08-06 01:44:00                     0  \n",
       "3  2180-07-23 05:54:00  2180-07-23 14:00:00                     0  \n",
       "4  2160-03-03 21:55:00  2160-03-04 06:26:00                     0  "
      ]
     },
     "execution_count": 3,
     "metadata": {},
     "output_type": "execute_result"
    }
   ],
   "source": [
    "admission.head()"
   ]
  },
  {
   "cell_type": "code",
   "execution_count": 4,
   "metadata": {},
   "outputs": [
    {
     "data": {
      "text/plain": [
       "546028"
      ]
     },
     "execution_count": 4,
     "metadata": {},
     "output_type": "execute_result"
    }
   ],
   "source": [
    "len(admission)"
   ]
  },
  {
   "cell_type": "code",
   "execution_count": 5,
   "metadata": {},
   "outputs": [
    {
     "data": {
      "text/html": [
       "<div>\n",
       "<style scoped>\n",
       "    .dataframe tbody tr th:only-of-type {\n",
       "        vertical-align: middle;\n",
       "    }\n",
       "\n",
       "    .dataframe tbody tr th {\n",
       "        vertical-align: top;\n",
       "    }\n",
       "\n",
       "    .dataframe thead th {\n",
       "        text-align: right;\n",
       "    }\n",
       "</style>\n",
       "<table border=\"1\" class=\"dataframe\">\n",
       "  <thead>\n",
       "    <tr style=\"text-align: right;\">\n",
       "      <th></th>\n",
       "      <th>subject_id</th>\n",
       "      <th>gender</th>\n",
       "      <th>anchor_age</th>\n",
       "      <th>anchor_year</th>\n",
       "      <th>anchor_year_group</th>\n",
       "      <th>dod</th>\n",
       "    </tr>\n",
       "  </thead>\n",
       "  <tbody>\n",
       "    <tr>\n",
       "      <th>0</th>\n",
       "      <td>10000032</td>\n",
       "      <td>F</td>\n",
       "      <td>52</td>\n",
       "      <td>2180</td>\n",
       "      <td>2014 - 2016</td>\n",
       "      <td>2180-09-09</td>\n",
       "    </tr>\n",
       "    <tr>\n",
       "      <th>1</th>\n",
       "      <td>10000048</td>\n",
       "      <td>F</td>\n",
       "      <td>23</td>\n",
       "      <td>2126</td>\n",
       "      <td>2008 - 2010</td>\n",
       "      <td>NaN</td>\n",
       "    </tr>\n",
       "    <tr>\n",
       "      <th>2</th>\n",
       "      <td>10000058</td>\n",
       "      <td>F</td>\n",
       "      <td>33</td>\n",
       "      <td>2168</td>\n",
       "      <td>2020 - 2022</td>\n",
       "      <td>NaN</td>\n",
       "    </tr>\n",
       "    <tr>\n",
       "      <th>3</th>\n",
       "      <td>10000068</td>\n",
       "      <td>F</td>\n",
       "      <td>19</td>\n",
       "      <td>2160</td>\n",
       "      <td>2008 - 2010</td>\n",
       "      <td>NaN</td>\n",
       "    </tr>\n",
       "    <tr>\n",
       "      <th>4</th>\n",
       "      <td>10000084</td>\n",
       "      <td>M</td>\n",
       "      <td>72</td>\n",
       "      <td>2160</td>\n",
       "      <td>2017 - 2019</td>\n",
       "      <td>2161-02-13</td>\n",
       "    </tr>\n",
       "  </tbody>\n",
       "</table>\n",
       "</div>"
      ],
      "text/plain": [
       "   subject_id gender  anchor_age  anchor_year anchor_year_group         dod\n",
       "0    10000032      F          52         2180       2014 - 2016  2180-09-09\n",
       "1    10000048      F          23         2126       2008 - 2010         NaN\n",
       "2    10000058      F          33         2168       2020 - 2022         NaN\n",
       "3    10000068      F          19         2160       2008 - 2010         NaN\n",
       "4    10000084      M          72         2160       2017 - 2019  2161-02-13"
      ]
     },
     "execution_count": 5,
     "metadata": {},
     "output_type": "execute_result"
    }
   ],
   "source": [
    "patient.head()"
   ]
  },
  {
   "cell_type": "code",
   "execution_count": 6,
   "metadata": {},
   "outputs": [
    {
     "data": {
      "text/plain": [
       "364627"
      ]
     },
     "execution_count": 6,
     "metadata": {},
     "output_type": "execute_result"
    }
   ],
   "source": [
    "len(patient)"
   ]
  },
  {
   "cell_type": "markdown",
   "metadata": {},
   "source": [
    "##### Inclusion 1: Urgent care setting"
   ]
  },
  {
   "cell_type": "code",
   "execution_count": 7,
   "metadata": {},
   "outputs": [
    {
     "data": {
      "text/plain": [
       "array(['URGENT', 'EW EMER.', 'EU OBSERVATION', 'OBSERVATION ADMIT',\n",
       "       'SURGICAL SAME DAY ADMISSION', 'AMBULATORY OBSERVATION',\n",
       "       'DIRECT EMER.', 'DIRECT OBSERVATION', 'ELECTIVE'], dtype=object)"
      ]
     },
     "execution_count": 7,
     "metadata": {},
     "output_type": "execute_result"
    }
   ],
   "source": [
    "admission[\"admission_type\"].unique()"
   ]
  },
  {
   "cell_type": "code",
   "execution_count": 8,
   "metadata": {},
   "outputs": [
    {
     "data": {
      "text/html": [
       "<div>\n",
       "<style scoped>\n",
       "    .dataframe tbody tr th:only-of-type {\n",
       "        vertical-align: middle;\n",
       "    }\n",
       "\n",
       "    .dataframe tbody tr th {\n",
       "        vertical-align: top;\n",
       "    }\n",
       "\n",
       "    .dataframe thead th {\n",
       "        text-align: right;\n",
       "    }\n",
       "</style>\n",
       "<table border=\"1\" class=\"dataframe\">\n",
       "  <thead>\n",
       "    <tr style=\"text-align: right;\">\n",
       "      <th></th>\n",
       "      <th>subject_id</th>\n",
       "      <th>hadm_id</th>\n",
       "      <th>admittime</th>\n",
       "      <th>dischtime</th>\n",
       "      <th>deathtime</th>\n",
       "      <th>admission_type</th>\n",
       "      <th>admit_provider_id</th>\n",
       "      <th>admission_location</th>\n",
       "      <th>discharge_location</th>\n",
       "      <th>insurance</th>\n",
       "      <th>language</th>\n",
       "      <th>marital_status</th>\n",
       "      <th>race</th>\n",
       "      <th>edregtime</th>\n",
       "      <th>edouttime</th>\n",
       "      <th>hospital_expire_flag</th>\n",
       "    </tr>\n",
       "  </thead>\n",
       "  <tbody>\n",
       "  </tbody>\n",
       "</table>\n",
       "</div>"
      ],
      "text/plain": [
       "Empty DataFrame\n",
       "Columns: [subject_id, hadm_id, admittime, dischtime, deathtime, admission_type, admit_provider_id, admission_location, discharge_location, insurance, language, marital_status, race, edregtime, edouttime, hospital_expire_flag]\n",
       "Index: []"
      ]
     },
     "execution_count": 8,
     "metadata": {},
     "output_type": "execute_result"
    }
   ],
   "source": [
    "admission[admission[\"admission_type\"].isna()]"
   ]
  },
  {
   "cell_type": "code",
   "execution_count": 9,
   "metadata": {},
   "outputs": [],
   "source": [
    "tmp = {\n",
    "    \"Emergency\": ['AMBULATORY OBSERVATION', 'DIRECT EMER.', 'URGENT', 'EW EMER.', 'DIRECT OBSERVATION', 'EU OBSERVATION', 'OBSERVATION ADMIT'],\n",
    "    \"Elective\": ['ELECTIVE', 'SURGICAL SAME DAY ADMISSION']\n",
    "}\n",
    "emergency_state = {}\n",
    "for k, v in tmp.items():\n",
    "    for i in v:\n",
    "        emergency_state[i] = k\n",
    "data = admission.copy()\n",
    "data[\"emergency_state\"] = data[\"admission_type\"].map(emergency_state)\n",
    "data = data[data[\"emergency_state\"] == \"Emergency\"]"
   ]
  },
  {
   "cell_type": "code",
   "execution_count": 10,
   "metadata": {},
   "outputs": [
    {
     "data": {
      "text/plain": [
       "490000"
      ]
     },
     "execution_count": 10,
     "metadata": {},
     "output_type": "execute_result"
    }
   ],
   "source": [
    "len(data)"
   ]
  },
  {
   "cell_type": "markdown",
   "metadata": {},
   "source": [
    "##### Inclusion 2: Length of stay"
   ]
  },
  {
   "cell_type": "code",
   "execution_count": 11,
   "metadata": {},
   "outputs": [
    {
     "data": {
      "text/html": [
       "<div>\n",
       "<style scoped>\n",
       "    .dataframe tbody tr th:only-of-type {\n",
       "        vertical-align: middle;\n",
       "    }\n",
       "\n",
       "    .dataframe tbody tr th {\n",
       "        vertical-align: top;\n",
       "    }\n",
       "\n",
       "    .dataframe thead th {\n",
       "        text-align: right;\n",
       "    }\n",
       "</style>\n",
       "<table border=\"1\" class=\"dataframe\">\n",
       "  <thead>\n",
       "    <tr style=\"text-align: right;\">\n",
       "      <th></th>\n",
       "      <th>subject_id</th>\n",
       "      <th>hadm_id</th>\n",
       "      <th>admittime</th>\n",
       "      <th>dischtime</th>\n",
       "      <th>deathtime</th>\n",
       "      <th>admission_type</th>\n",
       "      <th>admit_provider_id</th>\n",
       "      <th>admission_location</th>\n",
       "      <th>discharge_location</th>\n",
       "      <th>insurance</th>\n",
       "      <th>language</th>\n",
       "      <th>marital_status</th>\n",
       "      <th>race</th>\n",
       "      <th>edregtime</th>\n",
       "      <th>edouttime</th>\n",
       "      <th>hospital_expire_flag</th>\n",
       "    </tr>\n",
       "  </thead>\n",
       "  <tbody>\n",
       "  </tbody>\n",
       "</table>\n",
       "</div>"
      ],
      "text/plain": [
       "Empty DataFrame\n",
       "Columns: [subject_id, hadm_id, admittime, dischtime, deathtime, admission_type, admit_provider_id, admission_location, discharge_location, insurance, language, marital_status, race, edregtime, edouttime, hospital_expire_flag]\n",
       "Index: []"
      ]
     },
     "execution_count": 11,
     "metadata": {},
     "output_type": "execute_result"
    }
   ],
   "source": [
    "admission[admission[\"admittime\"].isna()]"
   ]
  },
  {
   "cell_type": "code",
   "execution_count": 12,
   "metadata": {},
   "outputs": [
    {
     "data": {
      "text/html": [
       "<div>\n",
       "<style scoped>\n",
       "    .dataframe tbody tr th:only-of-type {\n",
       "        vertical-align: middle;\n",
       "    }\n",
       "\n",
       "    .dataframe tbody tr th {\n",
       "        vertical-align: top;\n",
       "    }\n",
       "\n",
       "    .dataframe thead th {\n",
       "        text-align: right;\n",
       "    }\n",
       "</style>\n",
       "<table border=\"1\" class=\"dataframe\">\n",
       "  <thead>\n",
       "    <tr style=\"text-align: right;\">\n",
       "      <th></th>\n",
       "      <th>subject_id</th>\n",
       "      <th>hadm_id</th>\n",
       "      <th>admittime</th>\n",
       "      <th>dischtime</th>\n",
       "      <th>deathtime</th>\n",
       "      <th>admission_type</th>\n",
       "      <th>admit_provider_id</th>\n",
       "      <th>admission_location</th>\n",
       "      <th>discharge_location</th>\n",
       "      <th>insurance</th>\n",
       "      <th>language</th>\n",
       "      <th>marital_status</th>\n",
       "      <th>race</th>\n",
       "      <th>edregtime</th>\n",
       "      <th>edouttime</th>\n",
       "      <th>hospital_expire_flag</th>\n",
       "    </tr>\n",
       "  </thead>\n",
       "  <tbody>\n",
       "  </tbody>\n",
       "</table>\n",
       "</div>"
      ],
      "text/plain": [
       "Empty DataFrame\n",
       "Columns: [subject_id, hadm_id, admittime, dischtime, deathtime, admission_type, admit_provider_id, admission_location, discharge_location, insurance, language, marital_status, race, edregtime, edouttime, hospital_expire_flag]\n",
       "Index: []"
      ]
     },
     "execution_count": 12,
     "metadata": {},
     "output_type": "execute_result"
    }
   ],
   "source": [
    "admission[admission[\"dischtime\"].isna()]"
   ]
  },
  {
   "cell_type": "markdown",
   "metadata": {},
   "source": [
    "here we can find some of the `dischtime` and `deathtime` are inconsistent and some of the time seems to be strange (eg. `00:00`). To calculate the stay of length, if we both have `dischtime` and `deathtime`, we choose the longer time as the length. (Since all these visits are considered as `hospital_expire_flag = 1`, we consider until they passed away they were still in the hospital)"
   ]
  },
  {
   "cell_type": "code",
   "execution_count": 13,
   "metadata": {},
   "outputs": [
    {
     "data": {
      "text/html": [
       "<div>\n",
       "<style scoped>\n",
       "    .dataframe tbody tr th:only-of-type {\n",
       "        vertical-align: middle;\n",
       "    }\n",
       "\n",
       "    .dataframe tbody tr th {\n",
       "        vertical-align: top;\n",
       "    }\n",
       "\n",
       "    .dataframe thead th {\n",
       "        text-align: right;\n",
       "    }\n",
       "</style>\n",
       "<table border=\"1\" class=\"dataframe\">\n",
       "  <thead>\n",
       "    <tr style=\"text-align: right;\">\n",
       "      <th></th>\n",
       "      <th>admittime</th>\n",
       "      <th>dischtime</th>\n",
       "      <th>deathtime</th>\n",
       "      <th>hospital_expire_flag</th>\n",
       "    </tr>\n",
       "  </thead>\n",
       "  <tbody>\n",
       "    <tr>\n",
       "      <th>121</th>\n",
       "      <td>2131-03-09 20:33:00</td>\n",
       "      <td>2131-03-10 01:55:00</td>\n",
       "      <td>2131-03-10 21:53:00</td>\n",
       "      <td>1</td>\n",
       "    </tr>\n",
       "    <tr>\n",
       "      <th>454</th>\n",
       "      <td>2146-06-10 16:37:00</td>\n",
       "      <td>2146-07-12 00:00:00</td>\n",
       "      <td>2146-07-12 20:50:00</td>\n",
       "      <td>1</td>\n",
       "    </tr>\n",
       "    <tr>\n",
       "      <th>561</th>\n",
       "      <td>2124-11-14 15:41:00</td>\n",
       "      <td>2124-11-27 00:00:00</td>\n",
       "      <td>2124-11-27 21:21:00</td>\n",
       "      <td>1</td>\n",
       "    </tr>\n",
       "    <tr>\n",
       "      <th>1250</th>\n",
       "      <td>2175-07-06 15:57:00</td>\n",
       "      <td>2175-07-20 00:00:00</td>\n",
       "      <td>2175-07-20 22:50:00</td>\n",
       "      <td>1</td>\n",
       "    </tr>\n",
       "    <tr>\n",
       "      <th>1913</th>\n",
       "      <td>2165-08-13 14:00:00</td>\n",
       "      <td>2165-08-13 00:00:00</td>\n",
       "      <td>2165-08-13 22:20:00</td>\n",
       "      <td>1</td>\n",
       "    </tr>\n",
       "    <tr>\n",
       "      <th>...</th>\n",
       "      <td>...</td>\n",
       "      <td>...</td>\n",
       "      <td>...</td>\n",
       "      <td>...</td>\n",
       "    </tr>\n",
       "    <tr>\n",
       "      <th>544111</th>\n",
       "      <td>2125-09-25 19:12:00</td>\n",
       "      <td>2125-09-30 00:00:00</td>\n",
       "      <td>2125-09-30 22:45:00</td>\n",
       "      <td>1</td>\n",
       "    </tr>\n",
       "    <tr>\n",
       "      <th>544687</th>\n",
       "      <td>2153-06-01 20:14:00</td>\n",
       "      <td>2153-06-06 00:00:00</td>\n",
       "      <td>2153-06-06 23:26:00</td>\n",
       "      <td>1</td>\n",
       "    </tr>\n",
       "    <tr>\n",
       "      <th>545018</th>\n",
       "      <td>2152-01-20 20:03:00</td>\n",
       "      <td>2152-01-21 02:40:00</td>\n",
       "      <td>2152-01-21 20:03:00</td>\n",
       "      <td>1</td>\n",
       "    </tr>\n",
       "    <tr>\n",
       "      <th>545606</th>\n",
       "      <td>2152-07-17 08:03:00</td>\n",
       "      <td>2152-07-24 02:56:00</td>\n",
       "      <td>2152-07-24 22:45:00</td>\n",
       "      <td>1</td>\n",
       "    </tr>\n",
       "    <tr>\n",
       "      <th>545708</th>\n",
       "      <td>2185-11-13 17:22:00</td>\n",
       "      <td>2185-11-17 22:45:00</td>\n",
       "      <td>2185-11-17 00:00:00</td>\n",
       "      <td>1</td>\n",
       "    </tr>\n",
       "  </tbody>\n",
       "</table>\n",
       "<p>789 rows × 4 columns</p>\n",
       "</div>"
      ],
      "text/plain": [
       "                  admittime            dischtime            deathtime  \\\n",
       "121     2131-03-09 20:33:00  2131-03-10 01:55:00  2131-03-10 21:53:00   \n",
       "454     2146-06-10 16:37:00  2146-07-12 00:00:00  2146-07-12 20:50:00   \n",
       "561     2124-11-14 15:41:00  2124-11-27 00:00:00  2124-11-27 21:21:00   \n",
       "1250    2175-07-06 15:57:00  2175-07-20 00:00:00  2175-07-20 22:50:00   \n",
       "1913    2165-08-13 14:00:00  2165-08-13 00:00:00  2165-08-13 22:20:00   \n",
       "...                     ...                  ...                  ...   \n",
       "544111  2125-09-25 19:12:00  2125-09-30 00:00:00  2125-09-30 22:45:00   \n",
       "544687  2153-06-01 20:14:00  2153-06-06 00:00:00  2153-06-06 23:26:00   \n",
       "545018  2152-01-20 20:03:00  2152-01-21 02:40:00  2152-01-21 20:03:00   \n",
       "545606  2152-07-17 08:03:00  2152-07-24 02:56:00  2152-07-24 22:45:00   \n",
       "545708  2185-11-13 17:22:00  2185-11-17 22:45:00  2185-11-17 00:00:00   \n",
       "\n",
       "        hospital_expire_flag  \n",
       "121                        1  \n",
       "454                        1  \n",
       "561                        1  \n",
       "1250                       1  \n",
       "1913                       1  \n",
       "...                      ...  \n",
       "544111                     1  \n",
       "544687                     1  \n",
       "545018                     1  \n",
       "545606                     1  \n",
       "545708                     1  \n",
       "\n",
       "[789 rows x 4 columns]"
      ]
     },
     "execution_count": 13,
     "metadata": {},
     "output_type": "execute_result"
    }
   ],
   "source": [
    "data.loc[~data[\"deathtime\"].isna() & (data[\"dischtime\"] != data[\"deathtime\"]),[\"admittime\", \"dischtime\", \"deathtime\", \"hospital_expire_flag\"]]"
   ]
  },
  {
   "cell_type": "code",
   "execution_count": 14,
   "metadata": {},
   "outputs": [
    {
     "data": {
      "text/html": [
       "<div>\n",
       "<style scoped>\n",
       "    .dataframe tbody tr th:only-of-type {\n",
       "        vertical-align: middle;\n",
       "    }\n",
       "\n",
       "    .dataframe tbody tr th {\n",
       "        vertical-align: top;\n",
       "    }\n",
       "\n",
       "    .dataframe thead th {\n",
       "        text-align: right;\n",
       "    }\n",
       "</style>\n",
       "<table border=\"1\" class=\"dataframe\">\n",
       "  <thead>\n",
       "    <tr style=\"text-align: right;\">\n",
       "      <th></th>\n",
       "      <th>admittime</th>\n",
       "      <th>dischtime</th>\n",
       "      <th>deathtime</th>\n",
       "      <th>hospital_expire_flag</th>\n",
       "    </tr>\n",
       "  </thead>\n",
       "  <tbody>\n",
       "  </tbody>\n",
       "</table>\n",
       "</div>"
      ],
      "text/plain": [
       "Empty DataFrame\n",
       "Columns: [admittime, dischtime, deathtime, hospital_expire_flag]\n",
       "Index: []"
      ]
     },
     "execution_count": 14,
     "metadata": {},
     "output_type": "execute_result"
    }
   ],
   "source": [
    "data.loc[~data[\"deathtime\"].isna() & (data[\"dischtime\"] != data[\"deathtime\"]) & (data[\"hospital_expire_flag\"] != 1),[\"admittime\", \"dischtime\", \"deathtime\", \"hospital_expire_flag\"]]"
   ]
  },
  {
   "cell_type": "code",
   "execution_count": 15,
   "metadata": {},
   "outputs": [],
   "source": [
    "data[\"stay_length\"] = pd.DataFrame({\"1\":(pd.to_datetime(data[\"deathtime\"])- pd.to_datetime(data[\"admittime\"])).dt.total_seconds() / 3600.0, \"2\":(pd.to_datetime(data[\"dischtime\"]) - pd.to_datetime(data[\"admittime\"])).dt.total_seconds() / 3600.0}).max(axis=1)"
   ]
  },
  {
   "cell_type": "code",
   "execution_count": 16,
   "metadata": {},
   "outputs": [],
   "source": [
    "data = data[data[\"stay_length\"] >= 24]"
   ]
  },
  {
   "cell_type": "code",
   "execution_count": 17,
   "metadata": {},
   "outputs": [
    {
     "data": {
      "text/plain": [
       "371342"
      ]
     },
     "execution_count": 17,
     "metadata": {},
     "output_type": "execute_result"
    }
   ],
   "source": [
    "len(data)"
   ]
  },
  {
   "cell_type": "markdown",
   "metadata": {},
   "source": [
    "##### Label: in-hospital mortality"
   ]
  },
  {
   "cell_type": "code",
   "execution_count": 18,
   "metadata": {},
   "outputs": [
    {
     "data": {
      "text/plain": [
       "array([0, 1])"
      ]
     },
     "execution_count": 18,
     "metadata": {},
     "output_type": "execute_result"
    }
   ],
   "source": [
    "admission[\"hospital_expire_flag\"].unique()"
   ]
  },
  {
   "cell_type": "code",
   "execution_count": 19,
   "metadata": {},
   "outputs": [
    {
     "data": {
      "text/html": [
       "<div>\n",
       "<style scoped>\n",
       "    .dataframe tbody tr th:only-of-type {\n",
       "        vertical-align: middle;\n",
       "    }\n",
       "\n",
       "    .dataframe tbody tr th {\n",
       "        vertical-align: top;\n",
       "    }\n",
       "\n",
       "    .dataframe thead th {\n",
       "        text-align: right;\n",
       "    }\n",
       "</style>\n",
       "<table border=\"1\" class=\"dataframe\">\n",
       "  <thead>\n",
       "    <tr style=\"text-align: right;\">\n",
       "      <th></th>\n",
       "      <th>subject_id</th>\n",
       "      <th>hadm_id</th>\n",
       "      <th>admittime</th>\n",
       "      <th>dischtime</th>\n",
       "      <th>deathtime</th>\n",
       "      <th>admission_type</th>\n",
       "      <th>admit_provider_id</th>\n",
       "      <th>admission_location</th>\n",
       "      <th>discharge_location</th>\n",
       "      <th>insurance</th>\n",
       "      <th>language</th>\n",
       "      <th>marital_status</th>\n",
       "      <th>race</th>\n",
       "      <th>edregtime</th>\n",
       "      <th>edouttime</th>\n",
       "      <th>hospital_expire_flag</th>\n",
       "    </tr>\n",
       "  </thead>\n",
       "  <tbody>\n",
       "  </tbody>\n",
       "</table>\n",
       "</div>"
      ],
      "text/plain": [
       "Empty DataFrame\n",
       "Columns: [subject_id, hadm_id, admittime, dischtime, deathtime, admission_type, admit_provider_id, admission_location, discharge_location, insurance, language, marital_status, race, edregtime, edouttime, hospital_expire_flag]\n",
       "Index: []"
      ]
     },
     "execution_count": 19,
     "metadata": {},
     "output_type": "execute_result"
    }
   ],
   "source": [
    "admission[admission[\"hospital_expire_flag\"].isna()]"
   ]
  },
  {
   "cell_type": "markdown",
   "metadata": {},
   "source": [
    "check consistency: if `hospital_expire_flag = 1`, then should have deathtime. If not having deathtime, then at least the `dod` should be consistent (then we can regard the `deathtime` is somehow missed and we can use `dischtime` to impute the `deathtime`)"
   ]
  },
  {
   "cell_type": "code",
   "execution_count": 20,
   "metadata": {},
   "outputs": [
    {
     "data": {
      "text/html": [
       "<div>\n",
       "<style scoped>\n",
       "    .dataframe tbody tr th:only-of-type {\n",
       "        vertical-align: middle;\n",
       "    }\n",
       "\n",
       "    .dataframe tbody tr th {\n",
       "        vertical-align: top;\n",
       "    }\n",
       "\n",
       "    .dataframe thead th {\n",
       "        text-align: right;\n",
       "    }\n",
       "</style>\n",
       "<table border=\"1\" class=\"dataframe\">\n",
       "  <thead>\n",
       "    <tr style=\"text-align: right;\">\n",
       "      <th></th>\n",
       "      <th>dischtime</th>\n",
       "      <th>deathtime</th>\n",
       "      <th>dod</th>\n",
       "    </tr>\n",
       "  </thead>\n",
       "  <tbody>\n",
       "    <tr>\n",
       "      <th>0</th>\n",
       "      <td>2176-04-24 20:22:00</td>\n",
       "      <td>NaN</td>\n",
       "      <td>2176-04-24</td>\n",
       "    </tr>\n",
       "    <tr>\n",
       "      <th>1</th>\n",
       "      <td>2150-12-07 16:59:00</td>\n",
       "      <td>NaN</td>\n",
       "      <td>2150-12-07</td>\n",
       "    </tr>\n",
       "    <tr>\n",
       "      <th>2</th>\n",
       "      <td>2148-08-24 12:36:00</td>\n",
       "      <td>NaN</td>\n",
       "      <td>2148-08-24</td>\n",
       "    </tr>\n",
       "    <tr>\n",
       "      <th>3</th>\n",
       "      <td>2172-06-05 09:00:00</td>\n",
       "      <td>NaN</td>\n",
       "      <td>2172-06-05</td>\n",
       "    </tr>\n",
       "    <tr>\n",
       "      <th>4</th>\n",
       "      <td>2203-03-29 15:22:00</td>\n",
       "      <td>NaN</td>\n",
       "      <td>2203-03-29</td>\n",
       "    </tr>\n",
       "    <tr>\n",
       "      <th>5</th>\n",
       "      <td>2169-04-10 21:02:00</td>\n",
       "      <td>NaN</td>\n",
       "      <td>2169-04-10</td>\n",
       "    </tr>\n",
       "    <tr>\n",
       "      <th>6</th>\n",
       "      <td>2131-03-10 17:05:00</td>\n",
       "      <td>NaN</td>\n",
       "      <td>2131-03-10</td>\n",
       "    </tr>\n",
       "    <tr>\n",
       "      <th>7</th>\n",
       "      <td>2121-05-22 17:30:00</td>\n",
       "      <td>NaN</td>\n",
       "      <td>2121-05-22</td>\n",
       "    </tr>\n",
       "    <tr>\n",
       "      <th>8</th>\n",
       "      <td>2183-05-05 06:51:00</td>\n",
       "      <td>NaN</td>\n",
       "      <td>2183-05-05</td>\n",
       "    </tr>\n",
       "    <tr>\n",
       "      <th>9</th>\n",
       "      <td>2110-12-27 18:50:00</td>\n",
       "      <td>NaN</td>\n",
       "      <td>2110-12-27</td>\n",
       "    </tr>\n",
       "    <tr>\n",
       "      <th>10</th>\n",
       "      <td>2184-07-16 21:48:00</td>\n",
       "      <td>NaN</td>\n",
       "      <td>2184-07-16</td>\n",
       "    </tr>\n",
       "  </tbody>\n",
       "</table>\n",
       "</div>"
      ],
      "text/plain": [
       "              dischtime deathtime         dod\n",
       "0   2176-04-24 20:22:00       NaN  2176-04-24\n",
       "1   2150-12-07 16:59:00       NaN  2150-12-07\n",
       "2   2148-08-24 12:36:00       NaN  2148-08-24\n",
       "3   2172-06-05 09:00:00       NaN  2172-06-05\n",
       "4   2203-03-29 15:22:00       NaN  2203-03-29\n",
       "5   2169-04-10 21:02:00       NaN  2169-04-10\n",
       "6   2131-03-10 17:05:00       NaN  2131-03-10\n",
       "7   2121-05-22 17:30:00       NaN  2121-05-22\n",
       "8   2183-05-05 06:51:00       NaN  2183-05-05\n",
       "9   2110-12-27 18:50:00       NaN  2110-12-27\n",
       "10  2184-07-16 21:48:00       NaN  2184-07-16"
      ]
     },
     "execution_count": 20,
     "metadata": {},
     "output_type": "execute_result"
    }
   ],
   "source": [
    "data[data[\"deathtime\"].isna() & (data[\"hospital_expire_flag\"] == 1)].merge(patient, on=\"subject_id\", how=\"left\")[[\"dischtime\", \"deathtime\", \"dod\"]]"
   ]
  },
  {
   "cell_type": "code",
   "execution_count": 21,
   "metadata": {},
   "outputs": [],
   "source": [
    "data.loc[data[\"deathtime\"].isna() & (data[\"hospital_expire_flag\"] == 1), \"deathtime\"] = data.loc[data[\"deathtime\"].isna() & (data[\"hospital_expire_flag\"] == 1), \"dischtime\"]"
   ]
  },
  {
   "cell_type": "code",
   "execution_count": 22,
   "metadata": {},
   "outputs": [
    {
     "data": {
      "text/html": [
       "<div>\n",
       "<style scoped>\n",
       "    .dataframe tbody tr th:only-of-type {\n",
       "        vertical-align: middle;\n",
       "    }\n",
       "\n",
       "    .dataframe tbody tr th {\n",
       "        vertical-align: top;\n",
       "    }\n",
       "\n",
       "    .dataframe thead th {\n",
       "        text-align: right;\n",
       "    }\n",
       "</style>\n",
       "<table border=\"1\" class=\"dataframe\">\n",
       "  <thead>\n",
       "    <tr style=\"text-align: right;\">\n",
       "      <th></th>\n",
       "      <th>subject_id</th>\n",
       "      <th>hadm_id</th>\n",
       "      <th>admittime</th>\n",
       "      <th>dischtime</th>\n",
       "      <th>deathtime</th>\n",
       "      <th>admission_type</th>\n",
       "      <th>admit_provider_id</th>\n",
       "      <th>admission_location</th>\n",
       "      <th>discharge_location</th>\n",
       "      <th>insurance</th>\n",
       "      <th>language</th>\n",
       "      <th>marital_status</th>\n",
       "      <th>race</th>\n",
       "      <th>edregtime</th>\n",
       "      <th>edouttime</th>\n",
       "      <th>hospital_expire_flag</th>\n",
       "      <th>emergency_state</th>\n",
       "      <th>stay_length</th>\n",
       "    </tr>\n",
       "  </thead>\n",
       "  <tbody>\n",
       "  </tbody>\n",
       "</table>\n",
       "</div>"
      ],
      "text/plain": [
       "Empty DataFrame\n",
       "Columns: [subject_id, hadm_id, admittime, dischtime, deathtime, admission_type, admit_provider_id, admission_location, discharge_location, insurance, language, marital_status, race, edregtime, edouttime, hospital_expire_flag, emergency_state, stay_length]\n",
       "Index: []"
      ]
     },
     "execution_count": 22,
     "metadata": {},
     "output_type": "execute_result"
    }
   ],
   "source": [
    "data[data[\"deathtime\"].isna() & (data[\"hospital_expire_flag\"] == 1)]"
   ]
  },
  {
   "cell_type": "markdown",
   "metadata": {},
   "source": [
    "check consistency: if `hospital_expire_flag = 0`, then shouldn't have deathtime."
   ]
  },
  {
   "cell_type": "code",
   "execution_count": 23,
   "metadata": {},
   "outputs": [
    {
     "data": {
      "text/html": [
       "<div>\n",
       "<style scoped>\n",
       "    .dataframe tbody tr th:only-of-type {\n",
       "        vertical-align: middle;\n",
       "    }\n",
       "\n",
       "    .dataframe tbody tr th {\n",
       "        vertical-align: top;\n",
       "    }\n",
       "\n",
       "    .dataframe thead th {\n",
       "        text-align: right;\n",
       "    }\n",
       "</style>\n",
       "<table border=\"1\" class=\"dataframe\">\n",
       "  <thead>\n",
       "    <tr style=\"text-align: right;\">\n",
       "      <th></th>\n",
       "      <th>subject_id</th>\n",
       "      <th>hadm_id</th>\n",
       "      <th>admittime</th>\n",
       "      <th>dischtime</th>\n",
       "      <th>deathtime</th>\n",
       "      <th>admission_type</th>\n",
       "      <th>admit_provider_id</th>\n",
       "      <th>admission_location</th>\n",
       "      <th>discharge_location</th>\n",
       "      <th>insurance</th>\n",
       "      <th>language</th>\n",
       "      <th>marital_status</th>\n",
       "      <th>race</th>\n",
       "      <th>edregtime</th>\n",
       "      <th>edouttime</th>\n",
       "      <th>hospital_expire_flag</th>\n",
       "      <th>emergency_state</th>\n",
       "      <th>stay_length</th>\n",
       "    </tr>\n",
       "  </thead>\n",
       "  <tbody>\n",
       "  </tbody>\n",
       "</table>\n",
       "</div>"
      ],
      "text/plain": [
       "Empty DataFrame\n",
       "Columns: [subject_id, hadm_id, admittime, dischtime, deathtime, admission_type, admit_provider_id, admission_location, discharge_location, insurance, language, marital_status, race, edregtime, edouttime, hospital_expire_flag, emergency_state, stay_length]\n",
       "Index: []"
      ]
     },
     "execution_count": 23,
     "metadata": {},
     "output_type": "execute_result"
    }
   ],
   "source": [
    "data[~data[\"deathtime\"].isna() & (data[\"hospital_expire_flag\"] == 0)]"
   ]
  },
  {
   "cell_type": "markdown",
   "metadata": {},
   "source": [
    "##### Include Features"
   ]
  },
  {
   "cell_type": "code",
   "execution_count": 24,
   "metadata": {},
   "outputs": [],
   "source": [
    "final = data[[\"subject_id\",\t\"hadm_id\"]].copy()\n",
    "final[\"label\"] = data[\"hospital_expire_flag\"]"
   ]
  },
  {
   "cell_type": "markdown",
   "metadata": {},
   "source": [
    "###### Stay Length\n",
    "\n",
    "We include this as the disease severity can be correlated to stay length."
   ]
  },
  {
   "cell_type": "code",
   "execution_count": 25,
   "metadata": {},
   "outputs": [
    {
     "data": {
      "image/png": "[encoded data removed]",
      "text/plain": [
       "<Figure size 640x480 with 1 Axes>"
      ]
     },
     "metadata": {},
     "output_type": "display_data"
    }
   ],
   "source": [
    "sns.histplot(data[\"stay_length\"])\n",
    "plt.xlabel(\"Stay Length (Hr)\")\n",
    "plt.show()"
   ]
  },
  {
   "cell_type": "code",
   "execution_count": 26,
   "metadata": {},
   "outputs": [
    {
     "data": {
      "image/png": "[encoded data removed]",
      "text/plain": [
       "<Figure size 640x480 with 1 Axes>"
      ]
     },
     "metadata": {},
     "output_type": "display_data"
    }
   ],
   "source": [
    "sns.histplot(np.log(data[\"stay_length\"]/24))\n",
    "plt.xlabel(\"Stay Length (Day), Log Scale\")\n",
    "plt.show()"
   ]
  },
  {
   "cell_type": "markdown",
   "metadata": {},
   "source": [
    "Here we can observe strong right skewness. Statistically they are outliers, however, this number has it's reasonable meaning and cannot be simply discarded. Here we change the org hour based scale into a day based scale and do the log transformation to help with the distribution issue."
   ]
  },
  {
   "cell_type": "code",
   "execution_count": 27,
   "metadata": {},
   "outputs": [],
   "source": [
    "final[\"log_stay_day\"] = np.log(data[\"stay_length\"]/24)"
   ]
  },
  {
   "cell_type": "markdown",
   "metadata": {},
   "source": [
    "###### Admission Year\n",
    "\n",
    "We include this because health care quality may change from time to time."
   ]
  },
  {
   "cell_type": "code",
   "execution_count": 28,
   "metadata": {},
   "outputs": [],
   "source": [
    "final[\"admit_year\"] = data[\"admittime\"].str.split(\"-\").str[0].astype(int)"
   ]
  },
  {
   "cell_type": "code",
   "execution_count": 29,
   "metadata": {},
   "outputs": [
    {
     "data": {
      "text/html": [
       "<div>\n",
       "<style scoped>\n",
       "    .dataframe tbody tr th:only-of-type {\n",
       "        vertical-align: middle;\n",
       "    }\n",
       "\n",
       "    .dataframe tbody tr th {\n",
       "        vertical-align: top;\n",
       "    }\n",
       "\n",
       "    .dataframe thead th {\n",
       "        text-align: right;\n",
       "    }\n",
       "</style>\n",
       "<table border=\"1\" class=\"dataframe\">\n",
       "  <thead>\n",
       "    <tr style=\"text-align: right;\">\n",
       "      <th></th>\n",
       "      <th>subject_id</th>\n",
       "      <th>hadm_id</th>\n",
       "      <th>label</th>\n",
       "      <th>log_stay_day</th>\n",
       "      <th>admit_year</th>\n",
       "    </tr>\n",
       "  </thead>\n",
       "  <tbody>\n",
       "  </tbody>\n",
       "</table>\n",
       "</div>"
      ],
      "text/plain": [
       "Empty DataFrame\n",
       "Columns: [subject_id, hadm_id, label, log_stay_day, admit_year]\n",
       "Index: []"
      ]
     },
     "execution_count": 29,
     "metadata": {},
     "output_type": "execute_result"
    }
   ],
   "source": [
    "final[final[\"admit_year\"].isna()]"
   ]
  },
  {
   "cell_type": "code",
   "execution_count": 30,
   "metadata": {},
   "outputs": [
    {
     "data": {
      "image/png": "[encoded data removed]",
      "text/plain": [
       "<Figure size 640x480 with 1 Axes>"
      ]
     },
     "metadata": {},
     "output_type": "display_data"
    }
   ],
   "source": [
    "sns.histplot(final[\"admit_year\"])\n",
    "plt.show()"
   ]
  },
  {
   "cell_type": "markdown",
   "metadata": {},
   "source": [
    "###### Gender and Age\n",
    "\n",
    "We include this as gender and age can impact the disease severity."
   ]
  },
  {
   "cell_type": "code",
   "execution_count": 31,
   "metadata": {},
   "outputs": [],
   "source": [
    "index = final.index\n",
    "final = final.merge(patient, on=\"subject_id\", how=\"left\").drop([\"anchor_year_group\",\"dod\"], axis=1)\n",
    "final.index = index"
   ]
  },
  {
   "cell_type": "code",
   "execution_count": 32,
   "metadata": {},
   "outputs": [],
   "source": [
    "final[\"age\"] = final[\"admit_year\"] - final[\"anchor_year\"] + final[\"anchor_age\"]"
   ]
  },
  {
   "cell_type": "code",
   "execution_count": 33,
   "metadata": {},
   "outputs": [],
   "source": [
    "final.drop([\"anchor_year\", \"anchor_age\"], axis=1, inplace=True)"
   ]
  },
  {
   "cell_type": "code",
   "execution_count": 34,
   "metadata": {},
   "outputs": [
    {
     "data": {
      "text/html": [
       "<div>\n",
       "<style scoped>\n",
       "    .dataframe tbody tr th:only-of-type {\n",
       "        vertical-align: middle;\n",
       "    }\n",
       "\n",
       "    .dataframe tbody tr th {\n",
       "        vertical-align: top;\n",
       "    }\n",
       "\n",
       "    .dataframe thead th {\n",
       "        text-align: right;\n",
       "    }\n",
       "</style>\n",
       "<table border=\"1\" class=\"dataframe\">\n",
       "  <thead>\n",
       "    <tr style=\"text-align: right;\">\n",
       "      <th></th>\n",
       "      <th>subject_id</th>\n",
       "      <th>hadm_id</th>\n",
       "      <th>label</th>\n",
       "      <th>log_stay_day</th>\n",
       "      <th>admit_year</th>\n",
       "      <th>gender</th>\n",
       "      <th>age</th>\n",
       "    </tr>\n",
       "  </thead>\n",
       "  <tbody>\n",
       "  </tbody>\n",
       "</table>\n",
       "</div>"
      ],
      "text/plain": [
       "Empty DataFrame\n",
       "Columns: [subject_id, hadm_id, label, log_stay_day, admit_year, gender, age]\n",
       "Index: []"
      ]
     },
     "execution_count": 34,
     "metadata": {},
     "output_type": "execute_result"
    }
   ],
   "source": [
    "final[final[\"age\"].isna()]"
   ]
  },
  {
   "cell_type": "code",
   "execution_count": 35,
   "metadata": {},
   "outputs": [
    {
     "data": {
      "text/html": [
       "<div>\n",
       "<style scoped>\n",
       "    .dataframe tbody tr th:only-of-type {\n",
       "        vertical-align: middle;\n",
       "    }\n",
       "\n",
       "    .dataframe tbody tr th {\n",
       "        vertical-align: top;\n",
       "    }\n",
       "\n",
       "    .dataframe thead th {\n",
       "        text-align: right;\n",
       "    }\n",
       "</style>\n",
       "<table border=\"1\" class=\"dataframe\">\n",
       "  <thead>\n",
       "    <tr style=\"text-align: right;\">\n",
       "      <th></th>\n",
       "      <th>subject_id</th>\n",
       "      <th>hadm_id</th>\n",
       "      <th>label</th>\n",
       "      <th>log_stay_day</th>\n",
       "      <th>admit_year</th>\n",
       "      <th>gender</th>\n",
       "      <th>age</th>\n",
       "    </tr>\n",
       "  </thead>\n",
       "  <tbody>\n",
       "  </tbody>\n",
       "</table>\n",
       "</div>"
      ],
      "text/plain": [
       "Empty DataFrame\n",
       "Columns: [subject_id, hadm_id, label, log_stay_day, admit_year, gender, age]\n",
       "Index: []"
      ]
     },
     "execution_count": 35,
     "metadata": {},
     "output_type": "execute_result"
    }
   ],
   "source": [
    "final[final[\"gender\"].isna()]"
   ]
  },
  {
   "cell_type": "markdown",
   "metadata": {},
   "source": [
    "Here we discard `dod` as when we are in parctical situation we never know `dod`."
   ]
  },
  {
   "cell_type": "code",
   "execution_count": 36,
   "metadata": {},
   "outputs": [
    {
     "data": {
      "image/png": "[encoded data removed]",
      "text/plain": [
       "<Figure size 640x480 with 1 Axes>"
      ]
     },
     "metadata": {},
     "output_type": "display_data"
    }
   ],
   "source": [
    "sns.histplot(final[\"age\"])\n",
    "plt.show()"
   ]
  },
  {
   "cell_type": "code",
   "execution_count": 37,
   "metadata": {},
   "outputs": [
    {
     "data": {
      "text/plain": [
       "91"
      ]
     },
     "execution_count": 37,
     "metadata": {},
     "output_type": "execute_result"
    }
   ],
   "source": [
    "patient[\"anchor_age\"].max()"
   ]
  },
  {
   "cell_type": "code",
   "execution_count": 38,
   "metadata": {},
   "outputs": [
    {
     "data": {
      "text/html": [
       "<div>\n",
       "<style scoped>\n",
       "    .dataframe tbody tr th:only-of-type {\n",
       "        vertical-align: middle;\n",
       "    }\n",
       "\n",
       "    .dataframe tbody tr th {\n",
       "        vertical-align: top;\n",
       "    }\n",
       "\n",
       "    .dataframe thead th {\n",
       "        text-align: right;\n",
       "    }\n",
       "</style>\n",
       "<table border=\"1\" class=\"dataframe\">\n",
       "  <thead>\n",
       "    <tr style=\"text-align: right;\">\n",
       "      <th></th>\n",
       "      <th>subject_id</th>\n",
       "      <th>gender</th>\n",
       "      <th>anchor_age</th>\n",
       "      <th>anchor_year</th>\n",
       "      <th>anchor_year_group</th>\n",
       "      <th>dod</th>\n",
       "    </tr>\n",
       "  </thead>\n",
       "  <tbody>\n",
       "    <tr>\n",
       "      <th>135</th>\n",
       "      <td>10003417</td>\n",
       "      <td>M</td>\n",
       "      <td>91</td>\n",
       "      <td>2111</td>\n",
       "      <td>2020 - 2022</td>\n",
       "      <td>NaN</td>\n",
       "    </tr>\n",
       "    <tr>\n",
       "      <th>143</th>\n",
       "      <td>10003757</td>\n",
       "      <td>F</td>\n",
       "      <td>91</td>\n",
       "      <td>2142</td>\n",
       "      <td>2017 - 2019</td>\n",
       "      <td>2143-05-02</td>\n",
       "    </tr>\n",
       "    <tr>\n",
       "      <th>311</th>\n",
       "      <td>10008408</td>\n",
       "      <td>M</td>\n",
       "      <td>91</td>\n",
       "      <td>2172</td>\n",
       "      <td>2014 - 2016</td>\n",
       "      <td>2173-05-14</td>\n",
       "    </tr>\n",
       "    <tr>\n",
       "      <th>354</th>\n",
       "      <td>10009585</td>\n",
       "      <td>M</td>\n",
       "      <td>91</td>\n",
       "      <td>2111</td>\n",
       "      <td>2011 - 2013</td>\n",
       "      <td>2111-08-29</td>\n",
       "    </tr>\n",
       "    <tr>\n",
       "      <th>408</th>\n",
       "      <td>10010956</td>\n",
       "      <td>F</td>\n",
       "      <td>91</td>\n",
       "      <td>2136</td>\n",
       "      <td>2017 - 2019</td>\n",
       "      <td>NaN</td>\n",
       "    </tr>\n",
       "    <tr>\n",
       "      <th>...</th>\n",
       "      <td>...</td>\n",
       "      <td>...</td>\n",
       "      <td>...</td>\n",
       "      <td>...</td>\n",
       "      <td>...</td>\n",
       "      <td>...</td>\n",
       "    </tr>\n",
       "    <tr>\n",
       "      <th>364410</th>\n",
       "      <td>19994020</td>\n",
       "      <td>M</td>\n",
       "      <td>91</td>\n",
       "      <td>2132</td>\n",
       "      <td>2020 - 2022</td>\n",
       "      <td>NaN</td>\n",
       "    </tr>\n",
       "    <tr>\n",
       "      <th>364441</th>\n",
       "      <td>19994873</td>\n",
       "      <td>M</td>\n",
       "      <td>91</td>\n",
       "      <td>2160</td>\n",
       "      <td>2017 - 2019</td>\n",
       "      <td>2160-05-04</td>\n",
       "    </tr>\n",
       "    <tr>\n",
       "      <th>364475</th>\n",
       "      <td>19995732</td>\n",
       "      <td>F</td>\n",
       "      <td>91</td>\n",
       "      <td>2115</td>\n",
       "      <td>2008 - 2010</td>\n",
       "      <td>NaN</td>\n",
       "    </tr>\n",
       "    <tr>\n",
       "      <th>364565</th>\n",
       "      <td>19997967</td>\n",
       "      <td>F</td>\n",
       "      <td>91</td>\n",
       "      <td>2158</td>\n",
       "      <td>2020 - 2022</td>\n",
       "      <td>NaN</td>\n",
       "    </tr>\n",
       "    <tr>\n",
       "      <th>364610</th>\n",
       "      <td>19999379</td>\n",
       "      <td>F</td>\n",
       "      <td>91</td>\n",
       "      <td>2174</td>\n",
       "      <td>2011 - 2013</td>\n",
       "      <td>NaN</td>\n",
       "    </tr>\n",
       "  </tbody>\n",
       "</table>\n",
       "<p>8445 rows × 6 columns</p>\n",
       "</div>"
      ],
      "text/plain": [
       "        subject_id gender  anchor_age  anchor_year anchor_year_group  \\\n",
       "135       10003417      M          91         2111       2020 - 2022   \n",
       "143       10003757      F          91         2142       2017 - 2019   \n",
       "311       10008408      M          91         2172       2014 - 2016   \n",
       "354       10009585      M          91         2111       2011 - 2013   \n",
       "408       10010956      F          91         2136       2017 - 2019   \n",
       "...            ...    ...         ...          ...               ...   \n",
       "364410    19994020      M          91         2132       2020 - 2022   \n",
       "364441    19994873      M          91         2160       2017 - 2019   \n",
       "364475    19995732      F          91         2115       2008 - 2010   \n",
       "364565    19997967      F          91         2158       2020 - 2022   \n",
       "364610    19999379      F          91         2174       2011 - 2013   \n",
       "\n",
       "               dod  \n",
       "135            NaN  \n",
       "143     2143-05-02  \n",
       "311     2173-05-14  \n",
       "354     2111-08-29  \n",
       "408            NaN  \n",
       "...            ...  \n",
       "364410         NaN  \n",
       "364441  2160-05-04  \n",
       "364475         NaN  \n",
       "364565         NaN  \n",
       "364610         NaN  \n",
       "\n",
       "[8445 rows x 6 columns]"
      ]
     },
     "execution_count": 38,
     "metadata": {},
     "output_type": "execute_result"
    }
   ],
   "source": [
    "patient[patient[\"anchor_age\"] == 91]"
   ]
  },
  {
   "cell_type": "markdown",
   "metadata": {},
   "source": [
    "Seems like the age was truncated after 91. We don't have method to rescue it, let it be then."
   ]
  },
  {
   "cell_type": "code",
   "execution_count": 39,
   "metadata": {},
   "outputs": [
    {
     "data": {
      "image/png": "[encoded data removed]",
      "text/plain": [
       "<Figure size 640x480 with 1 Axes>"
      ]
     },
     "metadata": {},
     "output_type": "display_data"
    }
   ],
   "source": [
    "sns.barplot(final[\"gender\"])\n",
    "plt.show()"
   ]
  },
  {
   "cell_type": "markdown",
   "metadata": {},
   "source": [
    "###### Admission type\n",
    "\n",
    "We include this as this is related to disease severity."
   ]
  },
  {
   "cell_type": "code",
   "execution_count": 40,
   "metadata": {},
   "outputs": [],
   "source": [
    "final[\"admission_type\"] = data[\"admission_type\"]"
   ]
  },
  {
   "cell_type": "code",
   "execution_count": 41,
   "metadata": {},
   "outputs": [
    {
     "data": {
      "image/png": "[encoded data removed]",
      "text/plain": [
       "<Figure size 640x480 with 1 Axes>"
      ]
     },
     "metadata": {},
     "output_type": "display_data"
    }
   ],
   "source": [
    "sns.barplot(final[\"admission_type\"])\n",
    "plt.show()"
   ]
  },
  {
   "cell_type": "markdown",
   "metadata": {},
   "source": [
    "###### Insurance\n",
    "\n",
    "We include as this may impact treatment activism."
   ]
  },
  {
   "cell_type": "code",
   "execution_count": 42,
   "metadata": {},
   "outputs": [],
   "source": [
    "final[\"insurance\"] = data[\"insurance\"]"
   ]
  },
  {
   "cell_type": "code",
   "execution_count": 43,
   "metadata": {},
   "outputs": [
    {
     "data": {
      "text/html": [
       "<div>\n",
       "<style scoped>\n",
       "    .dataframe tbody tr th:only-of-type {\n",
       "        vertical-align: middle;\n",
       "    }\n",
       "\n",
       "    .dataframe tbody tr th {\n",
       "        vertical-align: top;\n",
       "    }\n",
       "\n",
       "    .dataframe thead th {\n",
       "        text-align: right;\n",
       "    }\n",
       "</style>\n",
       "<table border=\"1\" class=\"dataframe\">\n",
       "  <thead>\n",
       "    <tr style=\"text-align: right;\">\n",
       "      <th></th>\n",
       "      <th>subject_id</th>\n",
       "      <th>hadm_id</th>\n",
       "      <th>label</th>\n",
       "      <th>log_stay_day</th>\n",
       "      <th>admit_year</th>\n",
       "      <th>gender</th>\n",
       "      <th>age</th>\n",
       "      <th>admission_type</th>\n",
       "      <th>insurance</th>\n",
       "    </tr>\n",
       "  </thead>\n",
       "  <tbody>\n",
       "    <tr>\n",
       "      <th>343</th>\n",
       "      <td>10005606</td>\n",
       "      <td>29646384</td>\n",
       "      <td>0</td>\n",
       "      <td>2.363602</td>\n",
       "      <td>2143</td>\n",
       "      <td>M</td>\n",
       "      <td>38</td>\n",
       "      <td>URGENT</td>\n",
       "      <td>NaN</td>\n",
       "    </tr>\n",
       "    <tr>\n",
       "      <th>376</th>\n",
       "      <td>10006131</td>\n",
       "      <td>21367824</td>\n",
       "      <td>0</td>\n",
       "      <td>1.781990</td>\n",
       "      <td>2143</td>\n",
       "      <td>M</td>\n",
       "      <td>45</td>\n",
       "      <td>DIRECT EMER.</td>\n",
       "      <td>NaN</td>\n",
       "    </tr>\n",
       "    <tr>\n",
       "      <th>377</th>\n",
       "      <td>10006131</td>\n",
       "      <td>27849136</td>\n",
       "      <td>0</td>\n",
       "      <td>0.962697</td>\n",
       "      <td>2143</td>\n",
       "      <td>M</td>\n",
       "      <td>45</td>\n",
       "      <td>EW EMER.</td>\n",
       "      <td>NaN</td>\n",
       "    </tr>\n",
       "    <tr>\n",
       "      <th>436</th>\n",
       "      <td>10007134</td>\n",
       "      <td>29356606</td>\n",
       "      <td>0</td>\n",
       "      <td>0.937182</td>\n",
       "      <td>2140</td>\n",
       "      <td>M</td>\n",
       "      <td>51</td>\n",
       "      <td>OBSERVATION ADMIT</td>\n",
       "      <td>NaN</td>\n",
       "    </tr>\n",
       "    <tr>\n",
       "      <th>559</th>\n",
       "      <td>10009711</td>\n",
       "      <td>23299685</td>\n",
       "      <td>0</td>\n",
       "      <td>2.378710</td>\n",
       "      <td>2154</td>\n",
       "      <td>M</td>\n",
       "      <td>64</td>\n",
       "      <td>EW EMER.</td>\n",
       "      <td>NaN</td>\n",
       "    </tr>\n",
       "    <tr>\n",
       "      <th>...</th>\n",
       "      <td>...</td>\n",
       "      <td>...</td>\n",
       "      <td>...</td>\n",
       "      <td>...</td>\n",
       "      <td>...</td>\n",
       "      <td>...</td>\n",
       "      <td>...</td>\n",
       "      <td>...</td>\n",
       "      <td>...</td>\n",
       "    </tr>\n",
       "    <tr>\n",
       "      <th>545498</th>\n",
       "      <td>19990889</td>\n",
       "      <td>27221824</td>\n",
       "      <td>0</td>\n",
       "      <td>1.271437</td>\n",
       "      <td>2189</td>\n",
       "      <td>F</td>\n",
       "      <td>31</td>\n",
       "      <td>URGENT</td>\n",
       "      <td>NaN</td>\n",
       "    </tr>\n",
       "    <tr>\n",
       "      <th>545700</th>\n",
       "      <td>19994247</td>\n",
       "      <td>21395815</td>\n",
       "      <td>0</td>\n",
       "      <td>1.341922</td>\n",
       "      <td>2136</td>\n",
       "      <td>F</td>\n",
       "      <td>28</td>\n",
       "      <td>OBSERVATION ADMIT</td>\n",
       "      <td>NaN</td>\n",
       "    </tr>\n",
       "    <tr>\n",
       "      <th>545701</th>\n",
       "      <td>19994247</td>\n",
       "      <td>26230901</td>\n",
       "      <td>0</td>\n",
       "      <td>1.125110</td>\n",
       "      <td>2136</td>\n",
       "      <td>F</td>\n",
       "      <td>28</td>\n",
       "      <td>EU OBSERVATION</td>\n",
       "      <td>NaN</td>\n",
       "    </tr>\n",
       "    <tr>\n",
       "      <th>545813</th>\n",
       "      <td>19996464</td>\n",
       "      <td>22067120</td>\n",
       "      <td>0</td>\n",
       "      <td>0.381097</td>\n",
       "      <td>2167</td>\n",
       "      <td>M</td>\n",
       "      <td>24</td>\n",
       "      <td>EW EMER.</td>\n",
       "      <td>NaN</td>\n",
       "    </tr>\n",
       "    <tr>\n",
       "      <th>545903</th>\n",
       "      <td>19997843</td>\n",
       "      <td>20277361</td>\n",
       "      <td>0</td>\n",
       "      <td>2.368685</td>\n",
       "      <td>2120</td>\n",
       "      <td>M</td>\n",
       "      <td>47</td>\n",
       "      <td>EW EMER.</td>\n",
       "      <td>NaN</td>\n",
       "    </tr>\n",
       "  </tbody>\n",
       "</table>\n",
       "<p>4604 rows × 9 columns</p>\n",
       "</div>"
      ],
      "text/plain": [
       "        subject_id   hadm_id  label  log_stay_day  admit_year gender  age  \\\n",
       "343       10005606  29646384      0      2.363602        2143      M   38   \n",
       "376       10006131  21367824      0      1.781990        2143      M   45   \n",
       "377       10006131  27849136      0      0.962697        2143      M   45   \n",
       "436       10007134  29356606      0      0.937182        2140      M   51   \n",
       "559       10009711  23299685      0      2.378710        2154      M   64   \n",
       "...            ...       ...    ...           ...         ...    ...  ...   \n",
       "545498    19990889  27221824      0      1.271437        2189      F   31   \n",
       "545700    19994247  21395815      0      1.341922        2136      F   28   \n",
       "545701    19994247  26230901      0      1.125110        2136      F   28   \n",
       "545813    19996464  22067120      0      0.381097        2167      M   24   \n",
       "545903    19997843  20277361      0      2.368685        2120      M   47   \n",
       "\n",
       "           admission_type insurance  \n",
       "343                URGENT       NaN  \n",
       "376          DIRECT EMER.       NaN  \n",
       "377              EW EMER.       NaN  \n",
       "436     OBSERVATION ADMIT       NaN  \n",
       "559              EW EMER.       NaN  \n",
       "...                   ...       ...  \n",
       "545498             URGENT       NaN  \n",
       "545700  OBSERVATION ADMIT       NaN  \n",
       "545701     EU OBSERVATION       NaN  \n",
       "545813           EW EMER.       NaN  \n",
       "545903           EW EMER.       NaN  \n",
       "\n",
       "[4604 rows x 9 columns]"
      ]
     },
     "execution_count": 43,
     "metadata": {},
     "output_type": "execute_result"
    }
   ],
   "source": [
    "final[final[\"insurance\"].isna()]"
   ]
  },
  {
   "cell_type": "code",
   "execution_count": 44,
   "metadata": {},
   "outputs": [
    {
     "data": {
      "text/plain": [
       "array(['Medicaid', 'Medicare', 'Private', 'Other', nan, 'No charge'],\n",
       "      dtype=object)"
      ]
     },
     "execution_count": 44,
     "metadata": {},
     "output_type": "execute_result"
    }
   ],
   "source": [
    "final[\"insurance\"].unique()"
   ]
  },
  {
   "cell_type": "markdown",
   "metadata": {},
   "source": [
    "Here we have to impute the missing value. For subject without any insurance record, we impute as `No insurance` and for those with insurance record, we use the most frequent value to impute."
   ]
  },
  {
   "cell_type": "code",
   "execution_count": 45,
   "metadata": {},
   "outputs": [
    {
     "name": "stderr",
     "output_type": "stream",
     "text": [
      "100%|██████████| 171486/171486 [00:13<00:00, 12644.28it/s]\n"
     ]
    }
   ],
   "source": [
    "imputer = SimpleImputer(strategy=\"most_frequent\")\n",
    "for i,tmp_df in tqdm(final.groupby(\"subject_id\")):\n",
    "    missing_num = tmp_df[\"insurance\"].isna().sum()\n",
    "    # donot have missing\n",
    "    if  missing_num == 0:\n",
    "        continue\n",
    "    # partial missing\n",
    "    if missing_num != len(tmp_df):\n",
    "        final.loc[tmp_df.index, \"insurance\"] = imputer.fit_transform(tmp_df[[\"insurance\"]])\n",
    "    # all missing\n",
    "    else:\n",
    "        final.loc[tmp_df.index, \"insurance\"] = \"No insurance\""
   ]
  },
  {
   "cell_type": "code",
   "execution_count": 46,
   "metadata": {},
   "outputs": [
    {
     "data": {
      "text/html": [
       "<div>\n",
       "<style scoped>\n",
       "    .dataframe tbody tr th:only-of-type {\n",
       "        vertical-align: middle;\n",
       "    }\n",
       "\n",
       "    .dataframe tbody tr th {\n",
       "        vertical-align: top;\n",
       "    }\n",
       "\n",
       "    .dataframe thead th {\n",
       "        text-align: right;\n",
       "    }\n",
       "</style>\n",
       "<table border=\"1\" class=\"dataframe\">\n",
       "  <thead>\n",
       "    <tr style=\"text-align: right;\">\n",
       "      <th></th>\n",
       "      <th>subject_id</th>\n",
       "      <th>hadm_id</th>\n",
       "      <th>label</th>\n",
       "      <th>log_stay_day</th>\n",
       "      <th>admit_year</th>\n",
       "      <th>gender</th>\n",
       "      <th>age</th>\n",
       "      <th>admission_type</th>\n",
       "      <th>insurance</th>\n",
       "    </tr>\n",
       "  </thead>\n",
       "  <tbody>\n",
       "  </tbody>\n",
       "</table>\n",
       "</div>"
      ],
      "text/plain": [
       "Empty DataFrame\n",
       "Columns: [subject_id, hadm_id, label, log_stay_day, admit_year, gender, age, admission_type, insurance]\n",
       "Index: []"
      ]
     },
     "execution_count": 46,
     "metadata": {},
     "output_type": "execute_result"
    }
   ],
   "source": [
    "final[final[\"insurance\"].isna()]"
   ]
  },
  {
   "cell_type": "code",
   "execution_count": 47,
   "metadata": {},
   "outputs": [
    {
     "data": {
      "image/png": "[encoded data removed]",
      "text/plain": [
       "<Figure size 640x480 with 1 Axes>"
      ]
     },
     "metadata": {},
     "output_type": "display_data"
    }
   ],
   "source": [
    "sns.barplot(final[\"insurance\"])\n",
    "plt.show()"
   ]
  },
  {
   "cell_type": "markdown",
   "metadata": {},
   "source": [
    "###### Language and Race\n",
    "\n",
    "We include language as language may hinder communication. We include race as it's related to different physical status of patients and potential discrimination."
   ]
  },
  {
   "cell_type": "code",
   "execution_count": 48,
   "metadata": {},
   "outputs": [],
   "source": [
    "final[[\"language\", \"race\"]] = data[[\"language\", \"race\"]]"
   ]
  },
  {
   "cell_type": "code",
   "execution_count": 49,
   "metadata": {},
   "outputs": [
    {
     "data": {
      "text/html": [
       "<div>\n",
       "<style scoped>\n",
       "    .dataframe tbody tr th:only-of-type {\n",
       "        vertical-align: middle;\n",
       "    }\n",
       "\n",
       "    .dataframe tbody tr th {\n",
       "        vertical-align: top;\n",
       "    }\n",
       "\n",
       "    .dataframe thead th {\n",
       "        text-align: right;\n",
       "    }\n",
       "</style>\n",
       "<table border=\"1\" class=\"dataframe\">\n",
       "  <thead>\n",
       "    <tr style=\"text-align: right;\">\n",
       "      <th></th>\n",
       "      <th>subject_id</th>\n",
       "      <th>hadm_id</th>\n",
       "      <th>label</th>\n",
       "      <th>log_stay_day</th>\n",
       "      <th>admit_year</th>\n",
       "      <th>gender</th>\n",
       "      <th>age</th>\n",
       "      <th>admission_type</th>\n",
       "      <th>insurance</th>\n",
       "      <th>language</th>\n",
       "      <th>race</th>\n",
       "    </tr>\n",
       "  </thead>\n",
       "  <tbody>\n",
       "  </tbody>\n",
       "</table>\n",
       "</div>"
      ],
      "text/plain": [
       "Empty DataFrame\n",
       "Columns: [subject_id, hadm_id, label, log_stay_day, admit_year, gender, age, admission_type, insurance, language, race]\n",
       "Index: []"
      ]
     },
     "execution_count": 49,
     "metadata": {},
     "output_type": "execute_result"
    }
   ],
   "source": [
    "final[final[\"race\"].isna()]"
   ]
  },
  {
   "cell_type": "code",
   "execution_count": 50,
   "metadata": {},
   "outputs": [
    {
     "data": {
      "text/plain": [
       "array(['WHITE', 'BLACK/AFRICAN AMERICAN', 'OTHER', 'UNKNOWN',\n",
       "       'WHITE - RUSSIAN', 'BLACK/CAPE VERDEAN',\n",
       "       'NATIVE HAWAIIAN OR OTHER PACIFIC ISLANDER', 'PORTUGUESE',\n",
       "       'WHITE - OTHER EUROPEAN', 'ASIAN - CHINESE',\n",
       "       'HISPANIC/LATINO - DOMINICAN', 'HISPANIC/LATINO - SALVADORAN',\n",
       "       'UNABLE TO OBTAIN', 'HISPANIC/LATINO - PUERTO RICAN',\n",
       "       'BLACK/AFRICAN', 'HISPANIC/LATINO - GUATEMALAN',\n",
       "       'ASIAN - SOUTH EAST ASIAN', 'ASIAN', 'WHITE - BRAZILIAN',\n",
       "       'HISPANIC OR LATINO', 'ASIAN - KOREAN', 'BLACK/CARIBBEAN ISLAND',\n",
       "       'HISPANIC/LATINO - MEXICAN', 'PATIENT DECLINED TO ANSWER',\n",
       "       'HISPANIC/LATINO - CUBAN', 'AMERICAN INDIAN/ALASKA NATIVE',\n",
       "       'WHITE - EASTERN EUROPEAN', 'HISPANIC/LATINO - HONDURAN',\n",
       "       'MULTIPLE RACE/ETHNICITY', 'HISPANIC/LATINO - CENTRAL AMERICAN',\n",
       "       'ASIAN - ASIAN INDIAN', 'HISPANIC/LATINO - COLUMBIAN',\n",
       "       'SOUTH AMERICAN'], dtype=object)"
      ]
     },
     "execution_count": 50,
     "metadata": {},
     "output_type": "execute_result"
    }
   ],
   "source": [
    "final[\"race\"].unique()"
   ]
  },
  {
   "cell_type": "code",
   "execution_count": 51,
   "metadata": {},
   "outputs": [
    {
     "data": {
      "text/html": [
       "<div>\n",
       "<style scoped>\n",
       "    .dataframe tbody tr th:only-of-type {\n",
       "        vertical-align: middle;\n",
       "    }\n",
       "\n",
       "    .dataframe tbody tr th {\n",
       "        vertical-align: top;\n",
       "    }\n",
       "\n",
       "    .dataframe thead th {\n",
       "        text-align: right;\n",
       "    }\n",
       "</style>\n",
       "<table border=\"1\" class=\"dataframe\">\n",
       "  <thead>\n",
       "    <tr style=\"text-align: right;\">\n",
       "      <th></th>\n",
       "      <th>subject_id</th>\n",
       "      <th>hadm_id</th>\n",
       "      <th>label</th>\n",
       "      <th>log_stay_day</th>\n",
       "      <th>admit_year</th>\n",
       "      <th>gender</th>\n",
       "      <th>age</th>\n",
       "      <th>admission_type</th>\n",
       "      <th>insurance</th>\n",
       "      <th>language</th>\n",
       "      <th>race</th>\n",
       "    </tr>\n",
       "  </thead>\n",
       "  <tbody>\n",
       "    <tr>\n",
       "      <th>597</th>\n",
       "      <td>10010424</td>\n",
       "      <td>28388172</td>\n",
       "      <td>0</td>\n",
       "      <td>1.090477</td>\n",
       "      <td>2164</td>\n",
       "      <td>M</td>\n",
       "      <td>63</td>\n",
       "      <td>EW EMER.</td>\n",
       "      <td>Private</td>\n",
       "      <td>NaN</td>\n",
       "      <td>UNABLE TO OBTAIN</td>\n",
       "    </tr>\n",
       "    <tr>\n",
       "      <th>2767</th>\n",
       "      <td>10051939</td>\n",
       "      <td>29623973</td>\n",
       "      <td>1</td>\n",
       "      <td>1.245195</td>\n",
       "      <td>2112</td>\n",
       "      <td>F</td>\n",
       "      <td>91</td>\n",
       "      <td>EW EMER.</td>\n",
       "      <td>Medicare</td>\n",
       "      <td>NaN</td>\n",
       "      <td>WHITE</td>\n",
       "    </tr>\n",
       "    <tr>\n",
       "      <th>3665</th>\n",
       "      <td>10071605</td>\n",
       "      <td>21911997</td>\n",
       "      <td>0</td>\n",
       "      <td>0.661040</td>\n",
       "      <td>2156</td>\n",
       "      <td>F</td>\n",
       "      <td>39</td>\n",
       "      <td>URGENT</td>\n",
       "      <td>Private</td>\n",
       "      <td>NaN</td>\n",
       "      <td>WHITE</td>\n",
       "    </tr>\n",
       "    <tr>\n",
       "      <th>6424</th>\n",
       "      <td>10125865</td>\n",
       "      <td>23139194</td>\n",
       "      <td>0</td>\n",
       "      <td>2.716854</td>\n",
       "      <td>2158</td>\n",
       "      <td>F</td>\n",
       "      <td>48</td>\n",
       "      <td>URGENT</td>\n",
       "      <td>Medicaid</td>\n",
       "      <td>NaN</td>\n",
       "      <td>WHITE</td>\n",
       "    </tr>\n",
       "    <tr>\n",
       "      <th>6425</th>\n",
       "      <td>10125865</td>\n",
       "      <td>29695033</td>\n",
       "      <td>0</td>\n",
       "      <td>2.272985</td>\n",
       "      <td>2158</td>\n",
       "      <td>F</td>\n",
       "      <td>48</td>\n",
       "      <td>URGENT</td>\n",
       "      <td>Medicaid</td>\n",
       "      <td>NaN</td>\n",
       "      <td>WHITE</td>\n",
       "    </tr>\n",
       "    <tr>\n",
       "      <th>...</th>\n",
       "      <td>...</td>\n",
       "      <td>...</td>\n",
       "      <td>...</td>\n",
       "      <td>...</td>\n",
       "      <td>...</td>\n",
       "      <td>...</td>\n",
       "      <td>...</td>\n",
       "      <td>...</td>\n",
       "      <td>...</td>\n",
       "      <td>...</td>\n",
       "      <td>...</td>\n",
       "    </tr>\n",
       "    <tr>\n",
       "      <th>541660</th>\n",
       "      <td>19919835</td>\n",
       "      <td>28212691</td>\n",
       "      <td>0</td>\n",
       "      <td>0.949081</td>\n",
       "      <td>2133</td>\n",
       "      <td>F</td>\n",
       "      <td>29</td>\n",
       "      <td>URGENT</td>\n",
       "      <td>Medicaid</td>\n",
       "      <td>NaN</td>\n",
       "      <td>ASIAN</td>\n",
       "    </tr>\n",
       "    <tr>\n",
       "      <th>543448</th>\n",
       "      <td>19952742</td>\n",
       "      <td>29264490</td>\n",
       "      <td>0</td>\n",
       "      <td>1.418244</td>\n",
       "      <td>2149</td>\n",
       "      <td>M</td>\n",
       "      <td>57</td>\n",
       "      <td>DIRECT EMER.</td>\n",
       "      <td>Private</td>\n",
       "      <td>NaN</td>\n",
       "      <td>WHITE</td>\n",
       "    </tr>\n",
       "    <tr>\n",
       "      <th>545066</th>\n",
       "      <td>19984259</td>\n",
       "      <td>20109446</td>\n",
       "      <td>0</td>\n",
       "      <td>2.166033</td>\n",
       "      <td>2153</td>\n",
       "      <td>F</td>\n",
       "      <td>60</td>\n",
       "      <td>URGENT</td>\n",
       "      <td>Private</td>\n",
       "      <td>NaN</td>\n",
       "      <td>WHITE</td>\n",
       "    </tr>\n",
       "    <tr>\n",
       "      <th>545068</th>\n",
       "      <td>19984259</td>\n",
       "      <td>26869546</td>\n",
       "      <td>0</td>\n",
       "      <td>2.825586</td>\n",
       "      <td>2153</td>\n",
       "      <td>F</td>\n",
       "      <td>60</td>\n",
       "      <td>EW EMER.</td>\n",
       "      <td>Private</td>\n",
       "      <td>NaN</td>\n",
       "      <td>WHITE</td>\n",
       "    </tr>\n",
       "    <tr>\n",
       "      <th>545956</th>\n",
       "      <td>19998843</td>\n",
       "      <td>24842066</td>\n",
       "      <td>0</td>\n",
       "      <td>1.204181</td>\n",
       "      <td>2187</td>\n",
       "      <td>M</td>\n",
       "      <td>45</td>\n",
       "      <td>EW EMER.</td>\n",
       "      <td>Medicaid</td>\n",
       "      <td>NaN</td>\n",
       "      <td>UNKNOWN</td>\n",
       "    </tr>\n",
       "  </tbody>\n",
       "</table>\n",
       "<p>594 rows × 11 columns</p>\n",
       "</div>"
      ],
      "text/plain": [
       "        subject_id   hadm_id  label  log_stay_day  admit_year gender  age  \\\n",
       "597       10010424  28388172      0      1.090477        2164      M   63   \n",
       "2767      10051939  29623973      1      1.245195        2112      F   91   \n",
       "3665      10071605  21911997      0      0.661040        2156      F   39   \n",
       "6424      10125865  23139194      0      2.716854        2158      F   48   \n",
       "6425      10125865  29695033      0      2.272985        2158      F   48   \n",
       "...            ...       ...    ...           ...         ...    ...  ...   \n",
       "541660    19919835  28212691      0      0.949081        2133      F   29   \n",
       "543448    19952742  29264490      0      1.418244        2149      M   57   \n",
       "545066    19984259  20109446      0      2.166033        2153      F   60   \n",
       "545068    19984259  26869546      0      2.825586        2153      F   60   \n",
       "545956    19998843  24842066      0      1.204181        2187      M   45   \n",
       "\n",
       "       admission_type insurance language              race  \n",
       "597          EW EMER.   Private      NaN  UNABLE TO OBTAIN  \n",
       "2767         EW EMER.  Medicare      NaN             WHITE  \n",
       "3665           URGENT   Private      NaN             WHITE  \n",
       "6424           URGENT  Medicaid      NaN             WHITE  \n",
       "6425           URGENT  Medicaid      NaN             WHITE  \n",
       "...               ...       ...      ...               ...  \n",
       "541660         URGENT  Medicaid      NaN             ASIAN  \n",
       "543448   DIRECT EMER.   Private      NaN             WHITE  \n",
       "545066         URGENT   Private      NaN             WHITE  \n",
       "545068       EW EMER.   Private      NaN             WHITE  \n",
       "545956       EW EMER.  Medicaid      NaN           UNKNOWN  \n",
       "\n",
       "[594 rows x 11 columns]"
      ]
     },
     "execution_count": 51,
     "metadata": {},
     "output_type": "execute_result"
    }
   ],
   "source": [
    "final[final[\"language\"].isna()]"
   ]
  },
  {
   "cell_type": "code",
   "execution_count": 52,
   "metadata": {},
   "outputs": [
    {
     "data": {
      "text/plain": [
       "array(['English', 'Other', 'Russian', 'Kabuverdianu', 'Spanish',\n",
       "       'American Sign Language', 'Vietnamese', 'Portuguese', nan,\n",
       "       'Modern Greek (1453-)', 'Haitian', 'Persian', 'French', 'Chinese',\n",
       "       'Arabic', 'Khmer', 'Japanese', 'Thai', 'Polish', 'Italian',\n",
       "       'Amharic', 'Korean', 'Hindi', 'Bengali', 'Armenian', 'Somali'],\n",
       "      dtype=object)"
      ]
     },
     "execution_count": 52,
     "metadata": {},
     "output_type": "execute_result"
    }
   ],
   "source": [
    "final[\"language\"].unique()"
   ]
  },
  {
   "cell_type": "code",
   "execution_count": 53,
   "metadata": {},
   "outputs": [
    {
     "name": "stderr",
     "output_type": "stream",
     "text": [
      "100%|██████████| 171486/171486 [00:09<00:00, 18645.54it/s]\n"
     ]
    }
   ],
   "source": [
    "for i,tmp_df in tqdm(final.groupby(\"subject_id\")):\n",
    "    missing_num = tmp_df[\"language\"].isna().sum()\n",
    "    # donot have missing\n",
    "    if  missing_num == 0:\n",
    "        continue\n",
    "    # partial missing\n",
    "    if missing_num != len(tmp_df):\n",
    "        print(i)"
   ]
  },
  {
   "cell_type": "markdown",
   "metadata": {},
   "source": [
    "Here the language is different from insurance as once we don't have language info for one subject. Here we simply put `UNKNOWN`"
   ]
  },
  {
   "cell_type": "code",
   "execution_count": 54,
   "metadata": {},
   "outputs": [],
   "source": [
    "final.loc[final[\"language\"].isna(), \"language\"] = \"UNKNOWN\""
   ]
  },
  {
   "cell_type": "code",
   "execution_count": 55,
   "metadata": {},
   "outputs": [
    {
     "data": {
      "text/html": [
       "<div>\n",
       "<style scoped>\n",
       "    .dataframe tbody tr th:only-of-type {\n",
       "        vertical-align: middle;\n",
       "    }\n",
       "\n",
       "    .dataframe tbody tr th {\n",
       "        vertical-align: top;\n",
       "    }\n",
       "\n",
       "    .dataframe thead th {\n",
       "        text-align: right;\n",
       "    }\n",
       "</style>\n",
       "<table border=\"1\" class=\"dataframe\">\n",
       "  <thead>\n",
       "    <tr style=\"text-align: right;\">\n",
       "      <th></th>\n",
       "      <th>subject_id</th>\n",
       "      <th>hadm_id</th>\n",
       "      <th>label</th>\n",
       "      <th>log_stay_day</th>\n",
       "      <th>admit_year</th>\n",
       "      <th>gender</th>\n",
       "      <th>age</th>\n",
       "      <th>admission_type</th>\n",
       "      <th>insurance</th>\n",
       "      <th>language</th>\n",
       "      <th>race</th>\n",
       "    </tr>\n",
       "  </thead>\n",
       "  <tbody>\n",
       "  </tbody>\n",
       "</table>\n",
       "</div>"
      ],
      "text/plain": [
       "Empty DataFrame\n",
       "Columns: [subject_id, hadm_id, label, log_stay_day, admit_year, gender, age, admission_type, insurance, language, race]\n",
       "Index: []"
      ]
     },
     "execution_count": 55,
     "metadata": {},
     "output_type": "execute_result"
    }
   ],
   "source": [
    "final[final[\"language\"].isna()]"
   ]
  },
  {
   "cell_type": "code",
   "execution_count": 56,
   "metadata": {},
   "outputs": [
    {
     "data": {
      "image/png": "[encoded data removed]",
      "text/plain": [
       "<Figure size 640x480 with 1 Axes>"
      ]
     },
     "metadata": {},
     "output_type": "display_data"
    }
   ],
   "source": [
    "sns.barplot(final[\"language\"])\n",
    "plt.show()"
   ]
  },
  {
   "cell_type": "code",
   "execution_count": 64,
   "metadata": {},
   "outputs": [
    {
     "data": {
      "image/png": "[encoded data removed]",
      "text/plain": [
       "<Figure size 640x480 with 1 Axes>"
      ]
     },
     "metadata": {},
     "output_type": "display_data"
    }
   ],
   "source": [
    "sns.barplot(final[\"race\"])\n",
    "plt.show()"
   ]
  },
  {
   "cell_type": "markdown",
   "metadata": {},
   "source": [
    "##### Remove repeated measure"
   ]
  },
  {
   "cell_type": "code",
   "execution_count": 57,
   "metadata": {},
   "outputs": [
    {
     "data": {
      "text/html": [
       "<div>\n",
       "<style scoped>\n",
       "    .dataframe tbody tr th:only-of-type {\n",
       "        vertical-align: middle;\n",
       "    }\n",
       "\n",
       "    .dataframe tbody tr th {\n",
       "        vertical-align: top;\n",
       "    }\n",
       "\n",
       "    .dataframe thead th {\n",
       "        text-align: right;\n",
       "    }\n",
       "</style>\n",
       "<table border=\"1\" class=\"dataframe\">\n",
       "  <thead>\n",
       "    <tr style=\"text-align: right;\">\n",
       "      <th></th>\n",
       "      <th>subject_id</th>\n",
       "      <th>label</th>\n",
       "      <th>log_stay_day</th>\n",
       "      <th>admit_year</th>\n",
       "      <th>gender</th>\n",
       "      <th>age</th>\n",
       "      <th>admission_type</th>\n",
       "      <th>insurance</th>\n",
       "      <th>language</th>\n",
       "      <th>race</th>\n",
       "    </tr>\n",
       "  </thead>\n",
       "  <tbody>\n",
       "    <tr>\n",
       "      <th>1</th>\n",
       "      <td>10000032</td>\n",
       "      <td>0</td>\n",
       "      <td>0.015162</td>\n",
       "      <td>2180</td>\n",
       "      <td>F</td>\n",
       "      <td>52</td>\n",
       "      <td>EW EMER.</td>\n",
       "      <td>Medicaid</td>\n",
       "      <td>English</td>\n",
       "      <td>WHITE</td>\n",
       "    </tr>\n",
       "    <tr>\n",
       "      <th>2</th>\n",
       "      <td>10000032</td>\n",
       "      <td>0</td>\n",
       "      <td>0.561994</td>\n",
       "      <td>2180</td>\n",
       "      <td>F</td>\n",
       "      <td>52</td>\n",
       "      <td>EW EMER.</td>\n",
       "      <td>Medicaid</td>\n",
       "      <td>English</td>\n",
       "      <td>WHITE</td>\n",
       "    </tr>\n",
       "    <tr>\n",
       "      <th>3</th>\n",
       "      <td>10000032</td>\n",
       "      <td>0</td>\n",
       "      <td>0.798508</td>\n",
       "      <td>2180</td>\n",
       "      <td>F</td>\n",
       "      <td>52</td>\n",
       "      <td>EW EMER.</td>\n",
       "      <td>Medicaid</td>\n",
       "      <td>English</td>\n",
       "      <td>WHITE</td>\n",
       "    </tr>\n",
       "    <tr>\n",
       "      <th>5</th>\n",
       "      <td>10000084</td>\n",
       "      <td>0</td>\n",
       "      <td>1.512682</td>\n",
       "      <td>2160</td>\n",
       "      <td>M</td>\n",
       "      <td>72</td>\n",
       "      <td>EW EMER.</td>\n",
       "      <td>Medicare</td>\n",
       "      <td>English</td>\n",
       "      <td>WHITE</td>\n",
       "    </tr>\n",
       "    <tr>\n",
       "      <th>9</th>\n",
       "      <td>10000117</td>\n",
       "      <td>0</td>\n",
       "      <td>1.075192</td>\n",
       "      <td>2183</td>\n",
       "      <td>F</td>\n",
       "      <td>57</td>\n",
       "      <td>OBSERVATION ADMIT</td>\n",
       "      <td>Medicaid</td>\n",
       "      <td>English</td>\n",
       "      <td>WHITE</td>\n",
       "    </tr>\n",
       "    <tr>\n",
       "      <th>...</th>\n",
       "      <td>...</td>\n",
       "      <td>...</td>\n",
       "      <td>...</td>\n",
       "      <td>...</td>\n",
       "      <td>...</td>\n",
       "      <td>...</td>\n",
       "      <td>...</td>\n",
       "      <td>...</td>\n",
       "      <td>...</td>\n",
       "      <td>...</td>\n",
       "    </tr>\n",
       "    <tr>\n",
       "      <th>546023</th>\n",
       "      <td>19999828</td>\n",
       "      <td>0</td>\n",
       "      <td>2.303696</td>\n",
       "      <td>2149</td>\n",
       "      <td>F</td>\n",
       "      <td>48</td>\n",
       "      <td>EW EMER.</td>\n",
       "      <td>Medicaid</td>\n",
       "      <td>English</td>\n",
       "      <td>WHITE</td>\n",
       "    </tr>\n",
       "    <tr>\n",
       "      <th>546024</th>\n",
       "      <td>19999828</td>\n",
       "      <td>0</td>\n",
       "      <td>2.837575</td>\n",
       "      <td>2147</td>\n",
       "      <td>F</td>\n",
       "      <td>46</td>\n",
       "      <td>EW EMER.</td>\n",
       "      <td>Medicaid</td>\n",
       "      <td>English</td>\n",
       "      <td>WHITE</td>\n",
       "    </tr>\n",
       "    <tr>\n",
       "      <th>546025</th>\n",
       "      <td>19999840</td>\n",
       "      <td>1</td>\n",
       "      <td>1.945414</td>\n",
       "      <td>2164</td>\n",
       "      <td>M</td>\n",
       "      <td>58</td>\n",
       "      <td>EW EMER.</td>\n",
       "      <td>Private</td>\n",
       "      <td>English</td>\n",
       "      <td>WHITE</td>\n",
       "    </tr>\n",
       "    <tr>\n",
       "      <th>546026</th>\n",
       "      <td>19999840</td>\n",
       "      <td>0</td>\n",
       "      <td>1.250379</td>\n",
       "      <td>2164</td>\n",
       "      <td>M</td>\n",
       "      <td>58</td>\n",
       "      <td>EW EMER.</td>\n",
       "      <td>Private</td>\n",
       "      <td>English</td>\n",
       "      <td>WHITE</td>\n",
       "    </tr>\n",
       "    <tr>\n",
       "      <th>546027</th>\n",
       "      <td>19999987</td>\n",
       "      <td>0</td>\n",
       "      <td>2.156194</td>\n",
       "      <td>2145</td>\n",
       "      <td>F</td>\n",
       "      <td>57</td>\n",
       "      <td>EW EMER.</td>\n",
       "      <td>Medicaid</td>\n",
       "      <td>English</td>\n",
       "      <td>UNKNOWN</td>\n",
       "    </tr>\n",
       "  </tbody>\n",
       "</table>\n",
       "<p>371325 rows × 10 columns</p>\n",
       "</div>"
      ],
      "text/plain": [
       "        subject_id  label  log_stay_day  admit_year gender  age  \\\n",
       "1         10000032      0      0.015162        2180      F   52   \n",
       "2         10000032      0      0.561994        2180      F   52   \n",
       "3         10000032      0      0.798508        2180      F   52   \n",
       "5         10000084      0      1.512682        2160      M   72   \n",
       "9         10000117      0      1.075192        2183      F   57   \n",
       "...            ...    ...           ...         ...    ...  ...   \n",
       "546023    19999828      0      2.303696        2149      F   48   \n",
       "546024    19999828      0      2.837575        2147      F   46   \n",
       "546025    19999840      1      1.945414        2164      M   58   \n",
       "546026    19999840      0      1.250379        2164      M   58   \n",
       "546027    19999987      0      2.156194        2145      F   57   \n",
       "\n",
       "           admission_type insurance language     race  \n",
       "1                EW EMER.  Medicaid  English    WHITE  \n",
       "2                EW EMER.  Medicaid  English    WHITE  \n",
       "3                EW EMER.  Medicaid  English    WHITE  \n",
       "5                EW EMER.  Medicare  English    WHITE  \n",
       "9       OBSERVATION ADMIT  Medicaid  English    WHITE  \n",
       "...                   ...       ...      ...      ...  \n",
       "546023           EW EMER.  Medicaid  English    WHITE  \n",
       "546024           EW EMER.  Medicaid  English    WHITE  \n",
       "546025           EW EMER.   Private  English    WHITE  \n",
       "546026           EW EMER.   Private  English    WHITE  \n",
       "546027           EW EMER.  Medicaid  English  UNKNOWN  \n",
       "\n",
       "[371325 rows x 10 columns]"
      ]
     },
     "execution_count": 57,
     "metadata": {},
     "output_type": "execute_result"
    }
   ],
   "source": [
    "final = final[['subject_id', 'label', 'log_stay_day', 'admit_year',\n",
    "       'gender', 'age', 'admission_type', 'insurance', 'language', 'race']].drop_duplicates()\n",
    "final"
   ]
  },
  {
   "cell_type": "code",
   "execution_count": 58,
   "metadata": {},
   "outputs": [],
   "source": [
    "final.to_csv(\"./data/processed_mimic_sample.csv\")"
   ]
  },
  {
   "cell_type": "markdown",
   "metadata": {},
   "source": [
    "##### Label Prevalence"
   ]
  },
  {
   "cell_type": "code",
   "execution_count": 66,
   "metadata": {},
   "outputs": [
    {
     "data": {
      "text/plain": [
       "0.026424291388944993"
      ]
     },
     "execution_count": 66,
     "metadata": {},
     "output_type": "execute_result"
    }
   ],
   "source": [
    "(final[\"label\"] == 1).mean()"
   ]
  },
  {
   "cell_type": "markdown",
   "metadata": {},
   "source": [
    "##### Train, Valid, Test Split\n",
    "\n",
    "Here, to prevent potential leakage, when we are doing the split, we make sure different entries of one specific subject is not distributed in different dataset. We leave out ~20% untouched test data to do the final evaluation and for the rest ~80% data, we do 5-fold cross validation for tuning the hyperparameters. Given the low prevalence, we explictly make sure some positive samples are included in the three sets."
   ]
  },
  {
   "cell_type": "code",
   "execution_count": 98,
   "metadata": {},
   "outputs": [],
   "source": [
    "def split_sanity_check(df1, df2):\n",
    "    print(\"df1 positive label num:\", df1['label'].sum())\n",
    "    print(\"df1 sample percentage:\", len(df1) / (len(df1) + len(df2)))\n",
    "    print()\n",
    "    print(\"df2 positive label num:\", df2['label'].sum())\n",
    "    print(\"df2 sample percentage:\", len(df2) / (len(df1) + len(df2)))\n",
    "    print()\n",
    "    print(\"Subject intersection:\", set(df1[\"subject_id\"]).intersection(set(df2[\"subject_id\"])))"
   ]
  },
  {
   "cell_type": "code",
   "execution_count": 94,
   "metadata": {},
   "outputs": [],
   "source": [
    "subject_labels = final.groupby('subject_id')['label'].max().reset_index()\n",
    "sss = StratifiedShuffleSplit(n_splits=1, test_size=0.2, random_state=42)\n",
    "train_idx, test_idx = next(sss.split(subject_labels['subject_id'], subject_labels['label']))\n",
    "\n",
    "train_subjects = subject_labels.iloc[train_idx]['subject_id']\n",
    "test_subjects = subject_labels.iloc[test_idx]['subject_id']\n",
    "\n",
    "train_df = final[final['subject_id'].isin(train_subjects)].copy()\n",
    "test_df = final[final['subject_id'].isin(test_subjects)].copy()"
   ]
  },
  {
   "cell_type": "code",
   "execution_count": 99,
   "metadata": {},
   "outputs": [
    {
     "name": "stdout",
     "output_type": "stream",
     "text": [
      "df1 positive label num: 7850\n",
      "df1 sample percentage: 0.7983518481114926\n",
      "\n",
      "df2 positive label num: 1962\n",
      "df2 sample percentage: 0.20164815188850738\n",
      "\n",
      "Subject intersection: set()\n"
     ]
    }
   ],
   "source": [
    "split_sanity_check(train_df, test_df)"
   ]
  },
  {
   "cell_type": "markdown",
   "metadata": {},
   "source": [
    "#### [15 Points] Question 2.2: Model Selection and Hyperparameter Tuning\n",
    "\n",
    "Perform model selection and hyperparameter tune your models (again--we're not being prescriptive here). Justify your experimentation decisions, including choice of model type, metric to optimize for, etc."
   ]
  },
  {
   "cell_type": "markdown",
   "metadata": {},
   "source": [
    "<font color=\"red\">Answer 2.2</font>\n",
    "\n",
    "We need to deal with the label imbalance and we need robust predictive performance.\n",
    "\n",
    "Here, we choose boosting model as the estimator, `HistGradientBoostingClassifier` in particular, for its efficiency and scalability, especially when handling large datasets. What's more, boosting methods are well-known for it's robust performance on tabular data and they can also model non-linear relationship, which is essential for modeling complicated real world data.\n",
    "\n",
    "To deal with label imbalance, we optimize for PRAUC, which is effective in scenarios where the positive class is rare. What's more, generally speaking, in this task, the most important task is to improve precision.\n",
    "\n",
    "For the model tuning, since the model adopts early stop, we donot need to tune the max iter. The parameters are generally used for controlling model complexity (`max_leaf_nodes`, `min_samples_leaf`, `l2_regularization`)."
   ]
  },
  {
   "cell_type": "code",
   "execution_count": 127,
   "metadata": {},
   "outputs": [],
   "source": [
    "num_features = ['log_stay_day', 'admit_year', 'age']\n",
    "cat_features = ['gender', 'admission_type', 'insurance', 'language', 'race']\n",
    "\n",
    "cv = StratifiedGroupKFold(n_splits=5, shuffle=True, random_state=42)\n",
    "\n",
    "preprocessor = ColumnTransformer(\n",
    "    transformers=[\n",
    "        ('num', StandardScaler(), num_features),\n",
    "        ('cat', OrdinalEncoder(), cat_features)\n",
    "    ]\n",
    ")"
   ]
  },
  {
   "cell_type": "code",
   "execution_count": 132,
   "metadata": {},
   "outputs": [],
   "source": [
    "X = preprocessor.fit_transform(train_df.iloc[:, 2:])\n",
    "y = train_df['label']\n",
    "groups = train_df['subject_id']\n",
    "\n",
    "params = {\n",
    "    'max_depth': np.arange(3, 11),\n",
    "    'learning_rate': np.linspace(0.01, 0.2, 20),\n",
    "    'max_leaf_nodes': np.arange(10, 101, 10),\n",
    "    'min_samples_leaf': np.arange(5, 51, 5),\n",
    "    'l2_regularization': np.linspace(0, 1.0, 11),\n",
    "}"
   ]
  },
  {
   "cell_type": "code",
   "execution_count": 133,
   "metadata": {},
   "outputs": [],
   "source": [
    "model = HistGradientBoostingClassifier(random_state=42)"
   ]
  },
  {
   "cell_type": "code",
   "execution_count": 136,
   "metadata": {},
   "outputs": [],
   "source": [
    "search = RandomizedSearchCV(\n",
    "    estimator=model,\n",
    "    param_distributions=params,\n",
    "    n_iter=50,\n",
    "    scoring='average_precision',\n",
    "    cv=cv, \n",
    "    random_state=42,\n",
    "    verbose=1,\n",
    "    n_jobs=-1\n",
    ")"
   ]
  },
  {
   "cell_type": "code",
   "execution_count": 137,
   "metadata": {},
   "outputs": [
    {
     "name": "stdout",
     "output_type": "stream",
     "text": [
      "Fitting 5 folds for each of 50 candidates, totalling 250 fits\n"
     ]
    },
    {
     "data": {
      "text/html": [
       "<style>#sk-container-id-2 {\n",
       "  /* Definition of color scheme common for light and dark mode */\n",
       "  --sklearn-color-text: #000;\n",
       "  --sklearn-color-text-muted: #666;\n",
       "  --sklearn-color-line: gray;\n",
       "  /* Definition of color scheme for unfitted estimators */\n",
       "  --sklearn-color-unfitted-level-0: #fff5e6;\n",
       "  --sklearn-color-unfitted-level-1: #f6e4d2;\n",
       "  --sklearn-color-unfitted-level-2: #ffe0b3;\n",
       "  --sklearn-color-unfitted-level-3: chocolate;\n",
       "  /* Definition of color scheme for fitted estimators */\n",
       "  --sklearn-color-fitted-level-0: #f0f8ff;\n",
       "  --sklearn-color-fitted-level-1: #d4ebff;\n",
       "  --sklearn-color-fitted-level-2: #b3dbfd;\n",
       "  --sklearn-color-fitted-level-3: cornflowerblue;\n",
       "\n",
       "  /* Specific color for light theme */\n",
       "  --sklearn-color-text-on-default-background: var(--sg-text-color, var(--theme-code-foreground, var(--jp-content-font-color1, black)));\n",
       "  --sklearn-color-background: var(--sg-background-color, var(--theme-background, var(--jp-layout-color0, white)));\n",
       "  --sklearn-color-border-box: var(--sg-text-color, var(--theme-code-foreground, var(--jp-content-font-color1, black)));\n",
       "  --sklearn-color-icon: #696969;\n",
       "\n",
       "  @media (prefers-color-scheme: dark) {\n",
       "    /* Redefinition of color scheme for dark theme */\n",
       "    --sklearn-color-text-on-default-background: var(--sg-text-color, var(--theme-code-foreground, var(--jp-content-font-color1, white)));\n",
       "    --sklearn-color-background: var(--sg-background-color, var(--theme-background, var(--jp-layout-color0, #111)));\n",
       "    --sklearn-color-border-box: var(--sg-text-color, var(--theme-code-foreground, var(--jp-content-font-color1, white)));\n",
       "    --sklearn-color-icon: #878787;\n",
       "  }\n",
       "}\n",
       "\n",
       "#sk-container-id-2 {\n",
       "  color: var(--sklearn-color-text);\n",
       "}\n",
       "\n",
       "#sk-container-id-2 pre {\n",
       "  padding: 0;\n",
       "}\n",
       "\n",
       "#sk-container-id-2 input.sk-hidden--visually {\n",
       "  border: 0;\n",
       "  clip: rect(1px 1px 1px 1px);\n",
       "  clip: rect(1px, 1px, 1px, 1px);\n",
       "  height: 1px;\n",
       "  margin: -1px;\n",
       "  overflow: hidden;\n",
       "  padding: 0;\n",
       "  position: absolute;\n",
       "  width: 1px;\n",
       "}\n",
       "\n",
       "#sk-container-id-2 div.sk-dashed-wrapped {\n",
       "  border: 1px dashed var(--sklearn-color-line);\n",
       "  margin: 0 0.4em 0.5em 0.4em;\n",
       "  box-sizing: border-box;\n",
       "  padding-bottom: 0.4em;\n",
       "  background-color: var(--sklearn-color-background);\n",
       "}\n",
       "\n",
       "#sk-container-id-2 div.sk-container {\n",
       "  /* jupyter's `normalize.less` sets `[hidden] { display: none; }`\n",
       "     but bootstrap.min.css set `[hidden] { display: none !important; }`\n",
       "     so we also need the `!important` here to be able to override the\n",
       "     default hidden behavior on the sphinx rendered scikit-learn.org.\n",
       "     See: https://github.com/scikit-learn/scikit-learn/issues/21755 */\n",
       "  display: inline-block !important;\n",
       "  position: relative;\n",
       "}\n",
       "\n",
       "#sk-container-id-2 div.sk-text-repr-fallback {\n",
       "  display: none;\n",
       "}\n",
       "\n",
       "div.sk-parallel-item,\n",
       "div.sk-serial,\n",
       "div.sk-item {\n",
       "  /* draw centered vertical line to link estimators */\n",
       "  background-image: linear-gradient(var(--sklearn-color-text-on-default-background), var(--sklearn-color-text-on-default-background));\n",
       "  background-size: 2px 100%;\n",
       "  background-repeat: no-repeat;\n",
       "  background-position: center center;\n",
       "}\n",
       "\n",
       "/* Parallel-specific style estimator block */\n",
       "\n",
       "#sk-container-id-2 div.sk-parallel-item::after {\n",
       "  content: \"\";\n",
       "  width: 100%;\n",
       "  border-bottom: 2px solid var(--sklearn-color-text-on-default-background);\n",
       "  flex-grow: 1;\n",
       "}\n",
       "\n",
       "#sk-container-id-2 div.sk-parallel {\n",
       "  display: flex;\n",
       "  align-items: stretch;\n",
       "  justify-content: center;\n",
       "  background-color: var(--sklearn-color-background);\n",
       "  position: relative;\n",
       "}\n",
       "\n",
       "#sk-container-id-2 div.sk-parallel-item {\n",
       "  display: flex;\n",
       "  flex-direction: column;\n",
       "}\n",
       "\n",
       "#sk-container-id-2 div.sk-parallel-item:first-child::after {\n",
       "  align-self: flex-end;\n",
       "  width: 50%;\n",
       "}\n",
       "\n",
       "#sk-container-id-2 div.sk-parallel-item:last-child::after {\n",
       "  align-self: flex-start;\n",
       "  width: 50%;\n",
       "}\n",
       "\n",
       "#sk-container-id-2 div.sk-parallel-item:only-child::after {\n",
       "  width: 0;\n",
       "}\n",
       "\n",
       "/* Serial-specific style estimator block */\n",
       "\n",
       "#sk-container-id-2 div.sk-serial {\n",
       "  display: flex;\n",
       "  flex-direction: column;\n",
       "  align-items: center;\n",
       "  background-color: var(--sklearn-color-background);\n",
       "  padding-right: 1em;\n",
       "  padding-left: 1em;\n",
       "}\n",
       "\n",
       "\n",
       "/* Toggleable style: style used for estimator/Pipeline/ColumnTransformer box that is\n",
       "clickable and can be expanded/collapsed.\n",
       "- Pipeline and ColumnTransformer use this feature and define the default style\n",
       "- Estimators will overwrite some part of the style using the `sk-estimator` class\n",
       "*/\n",
       "\n",
       "/* Pipeline and ColumnTransformer style (default) */\n",
       "\n",
       "#sk-container-id-2 div.sk-toggleable {\n",
       "  /* Default theme specific background. It is overwritten whether we have a\n",
       "  specific estimator or a Pipeline/ColumnTransformer */\n",
       "  background-color: var(--sklearn-color-background);\n",
       "}\n",
       "\n",
       "/* Toggleable label */\n",
       "#sk-container-id-2 label.sk-toggleable__label {\n",
       "  cursor: pointer;\n",
       "  display: flex;\n",
       "  width: 100%;\n",
       "  margin-bottom: 0;\n",
       "  padding: 0.5em;\n",
       "  box-sizing: border-box;\n",
       "  text-align: center;\n",
       "  align-items: start;\n",
       "  justify-content: space-between;\n",
       "  gap: 0.5em;\n",
       "}\n",
       "\n",
       "#sk-container-id-2 label.sk-toggleable__label .caption {\n",
       "  font-size: 0.6rem;\n",
       "  font-weight: lighter;\n",
       "  color: var(--sklearn-color-text-muted);\n",
       "}\n",
       "\n",
       "#sk-container-id-2 label.sk-toggleable__label-arrow:before {\n",
       "  /* Arrow on the left of the label */\n",
       "  content: \"▸\";\n",
       "  float: left;\n",
       "  margin-right: 0.25em;\n",
       "  color: var(--sklearn-color-icon);\n",
       "}\n",
       "\n",
       "#sk-container-id-2 label.sk-toggleable__label-arrow:hover:before {\n",
       "  color: var(--sklearn-color-text);\n",
       "}\n",
       "\n",
       "/* Toggleable content - dropdown */\n",
       "\n",
       "#sk-container-id-2 div.sk-toggleable__content {\n",
       "  max-height: 0;\n",
       "  max-width: 0;\n",
       "  overflow: hidden;\n",
       "  text-align: left;\n",
       "  /* unfitted */\n",
       "  background-color: var(--sklearn-color-unfitted-level-0);\n",
       "}\n",
       "\n",
       "#sk-container-id-2 div.sk-toggleable__content.fitted {\n",
       "  /* fitted */\n",
       "  background-color: var(--sklearn-color-fitted-level-0);\n",
       "}\n",
       "\n",
       "#sk-container-id-2 div.sk-toggleable__content pre {\n",
       "  margin: 0.2em;\n",
       "  border-radius: 0.25em;\n",
       "  color: var(--sklearn-color-text);\n",
       "  /* unfitted */\n",
       "  background-color: var(--sklearn-color-unfitted-level-0);\n",
       "}\n",
       "\n",
       "#sk-container-id-2 div.sk-toggleable__content.fitted pre {\n",
       "  /* unfitted */\n",
       "  background-color: var(--sklearn-color-fitted-level-0);\n",
       "}\n",
       "\n",
       "#sk-container-id-2 input.sk-toggleable__control:checked~div.sk-toggleable__content {\n",
       "  /* Expand drop-down */\n",
       "  max-height: 200px;\n",
       "  max-width: 100%;\n",
       "  overflow: auto;\n",
       "}\n",
       "\n",
       "#sk-container-id-2 input.sk-toggleable__control:checked~label.sk-toggleable__label-arrow:before {\n",
       "  content: \"▾\";\n",
       "}\n",
       "\n",
       "/* Pipeline/ColumnTransformer-specific style */\n",
       "\n",
       "#sk-container-id-2 div.sk-label input.sk-toggleable__control:checked~label.sk-toggleable__label {\n",
       "  color: var(--sklearn-color-text);\n",
       "  background-color: var(--sklearn-color-unfitted-level-2);\n",
       "}\n",
       "\n",
       "#sk-container-id-2 div.sk-label.fitted input.sk-toggleable__control:checked~label.sk-toggleable__label {\n",
       "  background-color: var(--sklearn-color-fitted-level-2);\n",
       "}\n",
       "\n",
       "/* Estimator-specific style */\n",
       "\n",
       "/* Colorize estimator box */\n",
       "#sk-container-id-2 div.sk-estimator input.sk-toggleable__control:checked~label.sk-toggleable__label {\n",
       "  /* unfitted */\n",
       "  background-color: var(--sklearn-color-unfitted-level-2);\n",
       "}\n",
       "\n",
       "#sk-container-id-2 div.sk-estimator.fitted input.sk-toggleable__control:checked~label.sk-toggleable__label {\n",
       "  /* fitted */\n",
       "  background-color: var(--sklearn-color-fitted-level-2);\n",
       "}\n",
       "\n",
       "#sk-container-id-2 div.sk-label label.sk-toggleable__label,\n",
       "#sk-container-id-2 div.sk-label label {\n",
       "  /* The background is the default theme color */\n",
       "  color: var(--sklearn-color-text-on-default-background);\n",
       "}\n",
       "\n",
       "/* On hover, darken the color of the background */\n",
       "#sk-container-id-2 div.sk-label:hover label.sk-toggleable__label {\n",
       "  color: var(--sklearn-color-text);\n",
       "  background-color: var(--sklearn-color-unfitted-level-2);\n",
       "}\n",
       "\n",
       "/* Label box, darken color on hover, fitted */\n",
       "#sk-container-id-2 div.sk-label.fitted:hover label.sk-toggleable__label.fitted {\n",
       "  color: var(--sklearn-color-text);\n",
       "  background-color: var(--sklearn-color-fitted-level-2);\n",
       "}\n",
       "\n",
       "/* Estimator label */\n",
       "\n",
       "#sk-container-id-2 div.sk-label label {\n",
       "  font-family: monospace;\n",
       "  font-weight: bold;\n",
       "  display: inline-block;\n",
       "  line-height: 1.2em;\n",
       "}\n",
       "\n",
       "#sk-container-id-2 div.sk-label-container {\n",
       "  text-align: center;\n",
       "}\n",
       "\n",
       "/* Estimator-specific */\n",
       "#sk-container-id-2 div.sk-estimator {\n",
       "  font-family: monospace;\n",
       "  border: 1px dotted var(--sklearn-color-border-box);\n",
       "  border-radius: 0.25em;\n",
       "  box-sizing: border-box;\n",
       "  margin-bottom: 0.5em;\n",
       "  /* unfitted */\n",
       "  background-color: var(--sklearn-color-unfitted-level-0);\n",
       "}\n",
       "\n",
       "#sk-container-id-2 div.sk-estimator.fitted {\n",
       "  /* fitted */\n",
       "  background-color: var(--sklearn-color-fitted-level-0);\n",
       "}\n",
       "\n",
       "/* on hover */\n",
       "#sk-container-id-2 div.sk-estimator:hover {\n",
       "  /* unfitted */\n",
       "  background-color: var(--sklearn-color-unfitted-level-2);\n",
       "}\n",
       "\n",
       "#sk-container-id-2 div.sk-estimator.fitted:hover {\n",
       "  /* fitted */\n",
       "  background-color: var(--sklearn-color-fitted-level-2);\n",
       "}\n",
       "\n",
       "/* Specification for estimator info (e.g. \"i\" and \"?\") */\n",
       "\n",
       "/* Common style for \"i\" and \"?\" */\n",
       "\n",
       ".sk-estimator-doc-link,\n",
       "a:link.sk-estimator-doc-link,\n",
       "a:visited.sk-estimator-doc-link {\n",
       "  float: right;\n",
       "  font-size: smaller;\n",
       "  line-height: 1em;\n",
       "  font-family: monospace;\n",
       "  background-color: var(--sklearn-color-background);\n",
       "  border-radius: 1em;\n",
       "  height: 1em;\n",
       "  width: 1em;\n",
       "  text-decoration: none !important;\n",
       "  margin-left: 0.5em;\n",
       "  text-align: center;\n",
       "  /* unfitted */\n",
       "  border: var(--sklearn-color-unfitted-level-1) 1pt solid;\n",
       "  color: var(--sklearn-color-unfitted-level-1);\n",
       "}\n",
       "\n",
       ".sk-estimator-doc-link.fitted,\n",
       "a:link.sk-estimator-doc-link.fitted,\n",
       "a:visited.sk-estimator-doc-link.fitted {\n",
       "  /* fitted */\n",
       "  border: var(--sklearn-color-fitted-level-1) 1pt solid;\n",
       "  color: var(--sklearn-color-fitted-level-1);\n",
       "}\n",
       "\n",
       "/* On hover */\n",
       "div.sk-estimator:hover .sk-estimator-doc-link:hover,\n",
       ".sk-estimator-doc-link:hover,\n",
       "div.sk-label-container:hover .sk-estimator-doc-link:hover,\n",
       ".sk-estimator-doc-link:hover {\n",
       "  /* unfitted */\n",
       "  background-color: var(--sklearn-color-unfitted-level-3);\n",
       "  color: var(--sklearn-color-background);\n",
       "  text-decoration: none;\n",
       "}\n",
       "\n",
       "div.sk-estimator.fitted:hover .sk-estimator-doc-link.fitted:hover,\n",
       ".sk-estimator-doc-link.fitted:hover,\n",
       "div.sk-label-container:hover .sk-estimator-doc-link.fitted:hover,\n",
       ".sk-estimator-doc-link.fitted:hover {\n",
       "  /* fitted */\n",
       "  background-color: var(--sklearn-color-fitted-level-3);\n",
       "  color: var(--sklearn-color-background);\n",
       "  text-decoration: none;\n",
       "}\n",
       "\n",
       "/* Span, style for the box shown on hovering the info icon */\n",
       ".sk-estimator-doc-link span {\n",
       "  display: none;\n",
       "  z-index: 9999;\n",
       "  position: relative;\n",
       "  font-weight: normal;\n",
       "  right: .2ex;\n",
       "  padding: .5ex;\n",
       "  margin: .5ex;\n",
       "  width: min-content;\n",
       "  min-width: 20ex;\n",
       "  max-width: 50ex;\n",
       "  color: var(--sklearn-color-text);\n",
       "  box-shadow: 2pt 2pt 4pt #999;\n",
       "  /* unfitted */\n",
       "  background: var(--sklearn-color-unfitted-level-0);\n",
       "  border: .5pt solid var(--sklearn-color-unfitted-level-3);\n",
       "}\n",
       "\n",
       ".sk-estimator-doc-link.fitted span {\n",
       "  /* fitted */\n",
       "  background: var(--sklearn-color-fitted-level-0);\n",
       "  border: var(--sklearn-color-fitted-level-3);\n",
       "}\n",
       "\n",
       ".sk-estimator-doc-link:hover span {\n",
       "  display: block;\n",
       "}\n",
       "\n",
       "/* \"?\"-specific style due to the `<a>` HTML tag */\n",
       "\n",
       "#sk-container-id-2 a.estimator_doc_link {\n",
       "  float: right;\n",
       "  font-size: 1rem;\n",
       "  line-height: 1em;\n",
       "  font-family: monospace;\n",
       "  background-color: var(--sklearn-color-background);\n",
       "  border-radius: 1rem;\n",
       "  height: 1rem;\n",
       "  width: 1rem;\n",
       "  text-decoration: none;\n",
       "  /* unfitted */\n",
       "  color: var(--sklearn-color-unfitted-level-1);\n",
       "  border: var(--sklearn-color-unfitted-level-1) 1pt solid;\n",
       "}\n",
       "\n",
       "#sk-container-id-2 a.estimator_doc_link.fitted {\n",
       "  /* fitted */\n",
       "  border: var(--sklearn-color-fitted-level-1) 1pt solid;\n",
       "  color: var(--sklearn-color-fitted-level-1);\n",
       "}\n",
       "\n",
       "/* On hover */\n",
       "#sk-container-id-2 a.estimator_doc_link:hover {\n",
       "  /* unfitted */\n",
       "  background-color: var(--sklearn-color-unfitted-level-3);\n",
       "  color: var(--sklearn-color-background);\n",
       "  text-decoration: none;\n",
       "}\n",
       "\n",
       "#sk-container-id-2 a.estimator_doc_link.fitted:hover {\n",
       "  /* fitted */\n",
       "  background-color: var(--sklearn-color-fitted-level-3);\n",
       "}\n",
       "</style><div id=\"sk-container-id-2\" class=\"sk-top-container\"><div class=\"sk-text-repr-fallback\"><pre>RandomizedSearchCV(cv=StratifiedGroupKFold(n_splits=5, random_state=42, shuffle=True),\n",
       "                   estimator=HistGradientBoostingClassifier(random_state=42),\n",
       "                   n_iter=50, n_jobs=-1,\n",
       "                   param_distributions={&#x27;l2_regularization&#x27;: array([0. , 0.1, 0.2, 0.3, 0.4, 0.5, 0.6, 0.7, 0.8, 0.9, 1. ]),\n",
       "                                        &#x27;learning_rate&#x27;: array([0.01, 0.02, 0.03, 0.04, 0.05, 0.06, 0.07, 0.08, 0.09, 0.1 , 0.11,\n",
       "       0.12, 0.13, 0.14, 0.15, 0.16, 0.17, 0.18, 0.19, 0.2 ]),\n",
       "                                        &#x27;max_depth&#x27;: array([ 3,  4,  5,  6,  7,  8,  9, 10]),\n",
       "                                        &#x27;max_leaf_nodes&#x27;: array([ 10,  20,  30,  40,  50,  60,  70,  80,  90, 100]),\n",
       "                                        &#x27;min_samples_leaf&#x27;: array([ 5, 10, 15, 20, 25, 30, 35, 40, 45, 50])},\n",
       "                   random_state=42, scoring=&#x27;average_precision&#x27;, verbose=1)</pre><b>In a Jupyter environment, please rerun this cell to show the HTML representation or trust the notebook. <br />On GitHub, the HTML representation is unable to render, please try loading this page with nbviewer.org.</b></div><div class=\"sk-container\" hidden><div class=\"sk-item sk-dashed-wrapped\"><div class=\"sk-label-container\"><div class=\"sk-label fitted sk-toggleable\"><input class=\"sk-toggleable__control sk-hidden--visually\" id=\"sk-estimator-id-4\" type=\"checkbox\" ><label for=\"sk-estimator-id-4\" class=\"sk-toggleable__label fitted sk-toggleable__label-arrow\"><div><div>RandomizedSearchCV</div></div><div><a class=\"sk-estimator-doc-link fitted\" rel=\"noreferrer\" target=\"_blank\" href=\"https://scikit-learn.org/1.6/modules/generated/sklearn.model_selection.RandomizedSearchCV.html\">?<span>Documentation for RandomizedSearchCV</span></a><span class=\"sk-estimator-doc-link fitted\">i<span>Fitted</span></span></div></label><div class=\"sk-toggleable__content fitted\"><pre>RandomizedSearchCV(cv=StratifiedGroupKFold(n_splits=5, random_state=42, shuffle=True),\n",
       "                   estimator=HistGradientBoostingClassifier(random_state=42),\n",
       "                   n_iter=50, n_jobs=-1,\n",
       "                   param_distributions={&#x27;l2_regularization&#x27;: array([0. , 0.1, 0.2, 0.3, 0.4, 0.5, 0.6, 0.7, 0.8, 0.9, 1. ]),\n",
       "                                        &#x27;learning_rate&#x27;: array([0.01, 0.02, 0.03, 0.04, 0.05, 0.06, 0.07, 0.08, 0.09, 0.1 , 0.11,\n",
       "       0.12, 0.13, 0.14, 0.15, 0.16, 0.17, 0.18, 0.19, 0.2 ]),\n",
       "                                        &#x27;max_depth&#x27;: array([ 3,  4,  5,  6,  7,  8,  9, 10]),\n",
       "                                        &#x27;max_leaf_nodes&#x27;: array([ 10,  20,  30,  40,  50,  60,  70,  80,  90, 100]),\n",
       "                                        &#x27;min_samples_leaf&#x27;: array([ 5, 10, 15, 20, 25, 30, 35, 40, 45, 50])},\n",
       "                   random_state=42, scoring=&#x27;average_precision&#x27;, verbose=1)</pre></div> </div></div><div class=\"sk-parallel\"><div class=\"sk-parallel-item\"><div class=\"sk-item\"><div class=\"sk-label-container\"><div class=\"sk-label fitted sk-toggleable\"><input class=\"sk-toggleable__control sk-hidden--visually\" id=\"sk-estimator-id-5\" type=\"checkbox\" ><label for=\"sk-estimator-id-5\" class=\"sk-toggleable__label fitted sk-toggleable__label-arrow\"><div><div>best_estimator_: HistGradientBoostingClassifier</div></div></label><div class=\"sk-toggleable__content fitted\"><pre>HistGradientBoostingClassifier(l2_regularization=0.7000000000000001,\n",
       "                               learning_rate=0.13, max_depth=6,\n",
       "                               max_leaf_nodes=60, min_samples_leaf=45,\n",
       "                               random_state=42)</pre></div> </div></div><div class=\"sk-serial\"><div class=\"sk-item\"><div class=\"sk-estimator fitted sk-toggleable\"><input class=\"sk-toggleable__control sk-hidden--visually\" id=\"sk-estimator-id-6\" type=\"checkbox\" ><label for=\"sk-estimator-id-6\" class=\"sk-toggleable__label fitted sk-toggleable__label-arrow\"><div><div>HistGradientBoostingClassifier</div></div><div><a class=\"sk-estimator-doc-link fitted\" rel=\"noreferrer\" target=\"_blank\" href=\"https://scikit-learn.org/1.6/modules/generated/sklearn.ensemble.HistGradientBoostingClassifier.html\">?<span>Documentation for HistGradientBoostingClassifier</span></a></div></label><div class=\"sk-toggleable__content fitted\"><pre>HistGradientBoostingClassifier(l2_regularization=0.7000000000000001,\n",
       "                               learning_rate=0.13, max_depth=6,\n",
       "                               max_leaf_nodes=60, min_samples_leaf=45,\n",
       "                               random_state=42)</pre></div> </div></div></div></div></div></div></div></div></div>"
      ],
      "text/plain": [
       "RandomizedSearchCV(cv=StratifiedGroupKFold(n_splits=5, random_state=42, shuffle=True),\n",
       "                   estimator=HistGradientBoostingClassifier(random_state=42),\n",
       "                   n_iter=50, n_jobs=-1,\n",
       "                   param_distributions={'l2_regularization': array([0. , 0.1, 0.2, 0.3, 0.4, 0.5, 0.6, 0.7, 0.8, 0.9, 1. ]),\n",
       "                                        'learning_rate': array([0.01, 0.02, 0.03, 0.04, 0.05, 0.06, 0.07, 0.08, 0.09, 0.1 , 0.11,\n",
       "       0.12, 0.13, 0.14, 0.15, 0.16, 0.17, 0.18, 0.19, 0.2 ]),\n",
       "                                        'max_depth': array([ 3,  4,  5,  6,  7,  8,  9, 10]),\n",
       "                                        'max_leaf_nodes': array([ 10,  20,  30,  40,  50,  60,  70,  80,  90, 100]),\n",
       "                                        'min_samples_leaf': array([ 5, 10, 15, 20, 25, 30, 35, 40, 45, 50])},\n",
       "                   random_state=42, scoring='average_precision', verbose=1)"
      ]
     },
     "execution_count": 137,
     "metadata": {},
     "output_type": "execute_result"
    }
   ],
   "source": [
    "search.fit(X, y, groups=groups)"
   ]
  },
  {
   "cell_type": "markdown",
   "metadata": {},
   "source": [
    "\n",
    "#### [10 Points] Question 2.3: Train and Evaluate your Best Model and Report Classification Metrics\n",
    "\n",
    "As always, report [distributional information for your classification metrics](https://aaai.org/conference/aaai/aaai-25/aaai-25-reproducibility-checklist/)."
   ]
  },
  {
   "cell_type": "code",
   "execution_count": 141,
   "metadata": {},
   "outputs": [],
   "source": [
    "def bootstrap_test_from_pred(label, pred_prob, bootstrap_num=200, bootstrap_sample_size=1000, **kwargs):\n",
    "    assert pred_prob.shape[0] == label.shape[0]\n",
    "\n",
    "    pred = np.argmax(pred_prob, axis = 1)\n",
    "    idx = np.arange(label.shape[0])\n",
    "\n",
    "    metric_dict = {k:[] for k in kwargs.keys()}\n",
    "\n",
    "    for i in range(bootstrap_num):\n",
    "        bootstrap_sample_idx = np.random.RandomState(seed=i).choice(idx, size=bootstrap_sample_size, replace=True)\n",
    "        bootstrap_label = label[bootstrap_sample_idx]\n",
    "        bootstrap_pred = pred[bootstrap_sample_idx]\n",
    "        bootstrap_pred_prob = pred_prob[bootstrap_sample_idx, :]\n",
    "\n",
    "        for metric, func in kwargs.items():\n",
    "            if \"AUC\" in metric:\n",
    "                metric_dict[metric].append(func(bootstrap_label, bootstrap_pred_prob[:,1]))\n",
    "            else:\n",
    "                metric_dict[metric].append(func(bootstrap_label, bootstrap_pred))\n",
    "    \n",
    "    return metric_dict"
   ]
  },
  {
   "cell_type": "code",
   "execution_count": 138,
   "metadata": {},
   "outputs": [],
   "source": [
    "best_model = search.best_estimator_"
   ]
  },
  {
   "cell_type": "code",
   "execution_count": 139,
   "metadata": {},
   "outputs": [],
   "source": [
    "test_X = preprocessor.transform(test_df.iloc[:, 2:])"
   ]
  },
  {
   "cell_type": "code",
   "execution_count": 151,
   "metadata": {},
   "outputs": [],
   "source": [
    "predicted_probs = best_model.predict_proba(test_X)"
   ]
  },
  {
   "cell_type": "code",
   "execution_count": 154,
   "metadata": {},
   "outputs": [],
   "source": [
    "test_metrics = bootstrap_test_from_pred(label=test_df[\"label\"].values, pred_prob=predicted_probs, bootstrap_sample_size=len(test_df), PRAUC=average_precision_score, ROAUC=roc_auc_score, Accuracy=accuracy_score, Recall=recall_score, Precision=precision_score, F1=f1_score)"
   ]
  },
  {
   "cell_type": "code",
   "execution_count": 155,
   "metadata": {},
   "outputs": [
    {
     "name": "stdout",
     "output_type": "stream",
     "text": [
      "Bootstrap Metrics Evaluation for Boosting\n",
      "\n",
      "PRAUC:\n",
      "Mean: 0.138\n",
      "95% CI Upper: 0.151\n",
      "95% CI Lower: 0.125\n",
      "***************\n",
      "ROAUC:\n",
      "Mean: 0.824\n",
      "95% CI Upper: 0.832\n",
      "95% CI Lower: 0.816\n",
      "***************\n",
      "Accuracy:\n",
      "Mean: 0.974\n",
      "95% CI Upper: 0.975\n",
      "95% CI Lower: 0.973\n",
      "***************\n",
      "Recall:\n",
      "Mean: 0.014\n",
      "95% CI Upper: 0.019\n",
      "95% CI Lower: 0.009\n",
      "***************\n",
      "Precision:\n",
      "Mean: 0.661\n",
      "95% CI Upper: 0.796\n",
      "95% CI Lower: 0.500\n",
      "***************\n",
      "F1:\n",
      "Mean: 0.027\n",
      "95% CI Upper: 0.037\n",
      "95% CI Lower: 0.019\n",
      "***************\n"
     ]
    }
   ],
   "source": [
    "method_name = \"Boosting\"\n",
    "print(f\"Bootstrap Metrics Evaluation for {method_name}\\n\")\n",
    "for metric, metric_res in test_metrics.items():\n",
    "    print(f\"{metric}:\")\n",
    "    print(f\"Mean: {np.mean(metric_res):.3f}\")\n",
    "    print(f\"95% CI Upper: {np.percentile(metric_res, 97.5):.3f}\")\n",
    "    print(f\"95% CI Lower: {np.percentile(metric_res, 2.5):.3f}\")\n",
    "    print(\"*\"*15)"
   ]
  },
  {
   "cell_type": "code",
   "execution_count": 156,
   "metadata": {},
   "outputs": [
    {
     "data": {
      "image/png": "[encoded data removed]",
      "text/plain": [
       "<Figure size 640x480 with 1 Axes>"
      ]
     },
     "metadata": {},
     "output_type": "display_data"
    }
   ],
   "source": [
    "sns.boxplot(data=pd.DataFrame(test_metrics).melt(var_name=\"Metrics\"), x=\"Metrics\", y=\"value\", hue=\"Metrics\")\n",
    "plt.xlabel(None)\n",
    "plt.ylabel(None)\n",
    "plt.title(f\"Bootstrap Metrics Evaluation for {method_name}\")\n",
    "plt.show()"
   ]
  },
  {
   "cell_type": "markdown",
   "metadata": {},
   "source": [
    "#### [5 Points] Question 2.4: Propose Methods to Improve the Utility of your Model\n",
    "\n",
    "This could be from the modelling standpoint (i.e. \"how can we improve classification performance?\"), robustness across settings (i.e. \"how can we ensure a model trained with BIDMC data works works on data at NY-P?\") or from a deployment standpoint (i.e. \"how can we make this model useful for clinicians?\")."
   ]
  },
  {
   "cell_type": "markdown",
   "metadata": {},
   "source": [
    "<font color=\"red\">Answer 2.4</font>\n",
    "\n",
    "1. Improve feature engineering. For traditional machine learning models, feature engineering is the most important part for model performance. However, this usually needs incorporating strong domain knowledge, including choosing the important feature, feature transformation, feature imputation, etc. Here, we lack that expertise.\n",
    "2. Try to incorporate more positive samples in the data. The prevalence is really low in this dataset, making it really hard for the model to learn information of positive labels. Downsampling the negative samples may be a way to avoid this kind of imbalance. Another way may be trying to incorporate pesudo positive labels.\n",
    "3. Here we independently model different entries of the same individual. We may need to reconsider this hypothesis and include the time dependency into our feature.\n",
    "4. To make the model more useful to clinicians, we may need to further collect features that can be measured real-time so that clinicans can monitor the probability in real-time. Also we may want our model to be more interpretable."
   ]
  }
 ],
 "metadata": {
  "kernelspec": {
   "display_name": "PreMode",
   "language": "python",
   "name": "python3"
  },
  "language_info": {
   "codemirror_mode": {
    "name": "ipython",
    "version": 3
   },
   "file_extension": ".py",
   "mimetype": "text/x-python",
   "name": "python",
   "nbconvert_exporter": "python",
   "pygments_lexer": "ipython3",
   "version": "3.9.21"
  }
 },
 "nbformat": 4,
 "nbformat_minor": 2
}
